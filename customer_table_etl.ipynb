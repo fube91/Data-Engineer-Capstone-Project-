{
 "cells": [
  {
   "cell_type": "code",
   "execution_count": 25,
   "metadata": {},
   "outputs": [],
   "source": [
    "import pyspark\n",
    "import pyspark.sql.functions as F\n",
    "from pyspark.sql import SparkSession\n",
    "from pyspark.sql.functions import udf\n",
    "from pyspark.sql.types import StringType\n",
    "from pyspark.sql.functions import length\n",
    "from pyspark.sql.functions import concat, lit\n",
    "from pyspark.sql.functions import substring, upper, col\n",
    "from pyspark.sql.functions import initcap\n",
    "from pyspark.sql.functions import lower\n",
    "import random\n",
    "from credentials import mysql_username, mysql_password\n",
    "\n",
    "# create the SparkSession\n",
    "spark = SparkSession.builder.appName('customer-pyspark').getOrCreate()"
   ]
  },
  {
   "cell_type": "code",
   "execution_count": 52,
   "metadata": {},
   "outputs": [
    {
     "name": "stdout",
     "output_type": "stream",
     "text": [
      "+------+----------------+------------+-------------+--------------------+----------+----------+--------+----------+---------+--------------------+-----------+---------+-----------------+\n",
      "|APT_NO|  CREDIT_CARD_NO|   CUST_CITY| CUST_COUNTRY|          CUST_EMAIL|CUST_PHONE|CUST_STATE|CUST_ZIP|FIRST_NAME|LAST_NAME|        LAST_UPDATED|MIDDLE_NAME|      SSN|      STREET_NAME|\n",
      "+------+----------------+------------+-------------+--------------------+----------+----------+--------+----------+---------+--------------------+-----------+---------+-----------------+\n",
      "|   656|4210653310061055|     Natchez|United States| AHooper@example.com|   1237818|        MS|   39120|      Alec|   Hooper|2018-04-21T12:49:...|         Wm|123456100|Main Street North|\n",
      "|   829|4210653310102868|Wethersfield|United States| EHolman@example.com|   1238933|        CT|   06109|      Etta|   Holman|2018-04-21T12:49:...|    Brendan|123453023|    Redwood Drive|\n",
      "|   683|4210653310116272|     Huntley|United States| WDunham@example.com|   1243018|        IL|   60142|    Wilber|   Dunham|2018-04-21T12:49:...|   Ezequiel|123454487| 12th Street East|\n",
      "|   253|4210653310195948|   NewBerlin|United States|  EHardy@example.com|   1243215|        WI|   53151|   Eugenio|    Hardy|2018-04-21T12:49:...|      Trina|123459758|Country Club Road|\n",
      "|   301|4210653310356919|      ElPaso|United States|  WAyers@example.com|   1242074|        TX|   79930|   Wilfred|    Ayers|2018-04-21T12:49:...|        May|123454431|   Madison Street|\n",
      "|     3|4210653310395982|NorthOlmsted|United States|BWoodard@example.com|   1242570|        OH|   44070|      Beau|  Woodard|2018-04-21T12:49:...|    Ambrose|123454202|   Colonial Drive|\n",
      "|    84|4210653310400536|      Vienna|United States|   SKemp@example.com|   1239685|        VA|   22180|    Sheila|     Kemp|2018-04-21T12:49:...|      Larry|123451799|   Belmont Avenue|\n",
      "|   728|4210653310459911|      Duarte|United States| WHurley@example.com|   1238213|        CA|   91010|     Wendy|   Hurley|2018-04-21T12:49:...|        Ora|123453875|     Oxford Court|\n",
      "|    81|4210653310773972|      Owosso|United States|AGilmore@example.com|   1240689|        MI|   48867|      Alec|  Gilmore|2018-04-21T12:49:...|     Tracie|123457511|    Forest Street|\n",
      "|   561|4210653310794854|        Zion|United States|    BLau@example.com|   1235222|        IL|   60099|    Barbra|      Lau|2018-04-21T12:49:...|    Mitchel|123457464|     Court Street|\n",
      "|   622|4210653310817373|  Youngstown|United States|EThomson@example.com|   1241363|        OH|   44512|   Edmundo|  Thomson|2018-04-21T12:49:...|      Denny|123457639|    Cypress Court|\n",
      "|   924|4210653310844617| Summerville|United States| ETruong@example.com|   1236228|        SC|   29483|      Elsa|   Truong|2018-04-21T12:49:...|   Isabelle|123453242|  8th Street West|\n",
      "|   611|4210653311015303|      ElPaso|United States|HMckinney@example...|   1238165|        TX|   79930|     Homer| Mckinney|2018-04-21T12:49:...|      Henry|123454339|      East Avenue|\n",
      "|   680|4210653311215039|      Fenton|United States|   RKidd@example.com|   1234730|        MI|   48430|      Rita|     Kidd|2018-04-21T12:49:...|     Rickey|123454537|         Route 44|\n",
      "|    71|4210653311229354|  Grandville|United States|ABallard@example.com|   1242113|        MI|   49418|    Amalia|  Ballard|2018-04-21T12:49:...|  Heriberto|123452373|    Warren Street|\n",
      "|   195|4210653311652836|    YubaCity|United States| PThomas@example.com|   1239888|        CA|   95993|     Patty|   Thomas|2018-04-21T12:49:...|   Angelita|123455343|     Jones Street|\n",
      "|   500|4210653311707126|   CapeCoral|United States| JMorrow@example.com|   1240158|        FL|   33904|  Josefina|   Morrow|2018-04-21T12:49:...|   Dorothea|123451533|       New Street|\n",
      "|   989|4210653311730764|  Brookfield|United States|NAndrews@example.com|   1241408|        WI|   53045|    Nelson|  Andrews|2018-04-21T12:49:...|  Jefferson|123459278|  Division Street|\n",
      "|   810|4210653311898082|    Richmond|United States|MSchneider@exampl...|   1238390|        VA|   23223|    Miquel|Schneider|2018-04-21T12:49:...|     Maximo|123456915|     Maple Street|\n",
      "|   649|4210653312021765| WestChester|United States|PTidwell@example.com|   1235067|        PA|   19380|    Parker|  Tidwell|2018-04-21T12:49:...|    Arnulfo|123453807|       Eagle Road|\n",
      "+------+----------------+------------+-------------+--------------------+----------+----------+--------+----------+---------+--------------------+-----------+---------+-----------------+\n",
      "only showing top 20 rows\n",
      "\n"
     ]
    }
   ],
   "source": [
    "df_customer = spark.read.json(\"json_source_data/cdw_sapp_customer.json\")\n",
    "df_customer.show()"
   ]
  },
  {
   "cell_type": "code",
   "execution_count": 48,
   "metadata": {},
   "outputs": [
    {
     "name": "stdout",
     "output_type": "stream",
     "text": [
      "root\n",
      " |-- SSN: long (nullable = true)\n",
      " |-- FIRST_NAME: string (nullable = true)\n",
      " |-- MIDDLE_NAME: string (nullable = true)\n",
      " |-- LAST_NAME: string (nullable = true)\n",
      " |-- CREDIT_CARD_NO: string (nullable = true)\n",
      " |-- FULL_STREET_ADDRESS: string (nullable = true)\n",
      " |-- CUST_CITY: string (nullable = true)\n",
      " |-- CUST_STATE: string (nullable = true)\n",
      " |-- CUST_COUNTRY: string (nullable = true)\n",
      " |-- CUST_ZIP: string (nullable = true)\n",
      " |-- CUST_PHONE: string (nullable = false)\n",
      " |-- CUST_EMAIL: string (nullable = true)\n",
      " |-- LAST_UPDATED: string (nullable = true)\n",
      "\n",
      "+-------+--------------------+----------+-----------+---------+--------------------+-------------------+---------+----------+-------------+------------------+-------------+--------------------+--------------------+\n",
      "|summary|                 SSN|FIRST_NAME|MIDDLE_NAME|LAST_NAME|      CREDIT_CARD_NO|FULL_STREET_ADDRESS|CUST_CITY|CUST_STATE| CUST_COUNTRY|          CUST_ZIP|   CUST_PHONE|          CUST_EMAIL|        LAST_UPDATED|\n",
      "+-------+--------------------+----------+-----------+---------+--------------------+-------------------+---------+----------+-------------+------------------+-------------+--------------------+--------------------+\n",
      "|  count|                 952|       952|        952|      952|                 952|                952|      952|       952|          952|               952|          952|                 952|                 952|\n",
      "|   mean|1.2345552588130252E8|      null|       null|     null|4.210653353718597...|               null|     null|      null|         null|36312.616596638654|         null|                null|                null|\n",
      "| stddev|  2561.1858044909427|      null|       null|     null| 2.576300828101659E7|               null|     null|      null|         null| 23945.49431677531|         null|                null|                null|\n",
      "|    min|           123451007|      Abby|       abby|   Abbott|    4210653310061055|    1, Circle Drive|  Acworth|        AL|United States|             01810|(212)123-5320|AAguilar@example.com|2018-04-21T12:49:...|\n",
      "|    max|           123459988|     Zelma|    zachary|   Zapata|    4210653399939240|    998, Shady Lane|     Zion|        WI|United States|             98908|(721)124-3335|ZStratton@example...|2018-04-21T12:49:...|\n",
      "+-------+--------------------+----------+-----------+---------+--------------------+-------------------+---------+----------+-------------+------------------+-------------+--------------------+--------------------+\n",
      "\n"
     ]
    }
   ],
   "source": [
    "df_customer.columns\n",
    "df_customer.printSchema()\n",
    "df_customer.describe().show()\n"
   ]
  },
  {
   "cell_type": "code",
   "execution_count": 28,
   "metadata": {},
   "outputs": [
    {
     "name": "stdout",
     "output_type": "stream",
     "text": [
      "+---------+----------+-----------+---------+----------------+------+-----------------+------------+----------+-------------+--------+----------+--------------------+--------------------+\n",
      "|      SSN|FIRST_NAME|MIDDLE_NAME|LAST_NAME|  CREDIT_CARD_NO|APT_NO|      STREET_NAME|   CUST_CITY|CUST_STATE| CUST_COUNTRY|CUST_ZIP|CUST_PHONE|          CUST_EMAIL|        LAST_UPDATED|\n",
      "+---------+----------+-----------+---------+----------------+------+-----------------+------------+----------+-------------+--------+----------+--------------------+--------------------+\n",
      "|123456100|      Alec|         Wm|   Hooper|4210653310061055|   656|Main Street North|     Natchez|        MS|United States|   39120|   1237818| AHooper@example.com|2018-04-21T12:49:...|\n",
      "|123453023|      Etta|    Brendan|   Holman|4210653310102868|   829|    Redwood Drive|Wethersfield|        CT|United States|   06109|   1238933| EHolman@example.com|2018-04-21T12:49:...|\n",
      "|123454487|    Wilber|   Ezequiel|   Dunham|4210653310116272|   683| 12th Street East|     Huntley|        IL|United States|   60142|   1243018| WDunham@example.com|2018-04-21T12:49:...|\n",
      "|123459758|   Eugenio|      Trina|    Hardy|4210653310195948|   253|Country Club Road|   NewBerlin|        WI|United States|   53151|   1243215|  EHardy@example.com|2018-04-21T12:49:...|\n",
      "|123454431|   Wilfred|        May|    Ayers|4210653310356919|   301|   Madison Street|      ElPaso|        TX|United States|   79930|   1242074|  WAyers@example.com|2018-04-21T12:49:...|\n",
      "|123454202|      Beau|    Ambrose|  Woodard|4210653310395982|     3|   Colonial Drive|NorthOlmsted|        OH|United States|   44070|   1242570|BWoodard@example.com|2018-04-21T12:49:...|\n",
      "|123451799|    Sheila|      Larry|     Kemp|4210653310400536|    84|   Belmont Avenue|      Vienna|        VA|United States|   22180|   1239685|   SKemp@example.com|2018-04-21T12:49:...|\n",
      "|123453875|     Wendy|        Ora|   Hurley|4210653310459911|   728|     Oxford Court|      Duarte|        CA|United States|   91010|   1238213| WHurley@example.com|2018-04-21T12:49:...|\n",
      "|123457511|      Alec|     Tracie|  Gilmore|4210653310773972|    81|    Forest Street|      Owosso|        MI|United States|   48867|   1240689|AGilmore@example.com|2018-04-21T12:49:...|\n",
      "|123457464|    Barbra|    Mitchel|      Lau|4210653310794854|   561|     Court Street|        Zion|        IL|United States|   60099|   1235222|    BLau@example.com|2018-04-21T12:49:...|\n",
      "|123457639|   Edmundo|      Denny|  Thomson|4210653310817373|   622|    Cypress Court|  Youngstown|        OH|United States|   44512|   1241363|EThomson@example.com|2018-04-21T12:49:...|\n",
      "|123453242|      Elsa|   Isabelle|   Truong|4210653310844617|   924|  8th Street West| Summerville|        SC|United States|   29483|   1236228| ETruong@example.com|2018-04-21T12:49:...|\n",
      "|123454339|     Homer|      Henry| Mckinney|4210653311015303|   611|      East Avenue|      ElPaso|        TX|United States|   79930|   1238165|HMckinney@example...|2018-04-21T12:49:...|\n",
      "|123454537|      Rita|     Rickey|     Kidd|4210653311215039|   680|         Route 44|      Fenton|        MI|United States|   48430|   1234730|   RKidd@example.com|2018-04-21T12:49:...|\n",
      "|123452373|    Amalia|  Heriberto|  Ballard|4210653311229354|    71|    Warren Street|  Grandville|        MI|United States|   49418|   1242113|ABallard@example.com|2018-04-21T12:49:...|\n",
      "|123455343|     Patty|   Angelita|   Thomas|4210653311652836|   195|     Jones Street|    YubaCity|        CA|United States|   95993|   1239888| PThomas@example.com|2018-04-21T12:49:...|\n",
      "|123451533|  Josefina|   Dorothea|   Morrow|4210653311707126|   500|       New Street|   CapeCoral|        FL|United States|   33904|   1240158| JMorrow@example.com|2018-04-21T12:49:...|\n",
      "|123459278|    Nelson|  Jefferson|  Andrews|4210653311730764|   989|  Division Street|  Brookfield|        WI|United States|   53045|   1241408|NAndrews@example.com|2018-04-21T12:49:...|\n",
      "|123456915|    Miquel|     Maximo|Schneider|4210653311898082|   810|     Maple Street|    Richmond|        VA|United States|   23223|   1238390|MSchneider@exampl...|2018-04-21T12:49:...|\n",
      "|123453807|    Parker|    Arnulfo|  Tidwell|4210653312021765|   649|       Eagle Road| WestChester|        PA|United States|   19380|   1235067|PTidwell@example.com|2018-04-21T12:49:...|\n",
      "+---------+----------+-----------+---------+----------------+------+-----------------+------------+----------+-------------+--------+----------+--------------------+--------------------+\n",
      "only showing top 20 rows\n",
      "\n"
     ]
    }
   ],
   "source": [
    "df_customer = df_customer.select('SSN', 'FIRST_NAME', 'MIDDLE_NAME', 'LAST_NAME',  \\\n",
    "            'CREDIT_CARD_NO', 'APT_NO', 'STREET_NAME', 'CUST_CITY', 'CUST_STATE',  \\\n",
    "            'CUST_COUNTRY', 'CUST_ZIP', 'CUST_PHONE', 'CUST_EMAIL', 'LAST_UPDATED')\n",
    "\n",
    "df_customer.show()"
   ]
  },
  {
   "cell_type": "code",
   "execution_count": 29,
   "metadata": {},
   "outputs": [
    {
     "name": "stdout",
     "output_type": "stream",
     "text": [
      "+-------------+\n",
      "|    CUST_CITY|\n",
      "+-------------+\n",
      "|      Natchez|\n",
      "| Wethersfield|\n",
      "|      Huntley|\n",
      "|   New Berlin|\n",
      "|      El Paso|\n",
      "|North Olmsted|\n",
      "|       Vienna|\n",
      "|       Duarte|\n",
      "|       Owosso|\n",
      "|         Zion|\n",
      "|   Youngstown|\n",
      "|  Summerville|\n",
      "|      El Paso|\n",
      "|       Fenton|\n",
      "|   Grandville|\n",
      "|    Yuba City|\n",
      "|   Cape Coral|\n",
      "|   Brookfield|\n",
      "|     Richmond|\n",
      "| West Chester|\n",
      "+-------------+\n",
      "only showing top 20 rows\n",
      "\n"
     ]
    }
   ],
   "source": [
    "# separate city names with a space.\n",
    "df_customer = df_customer.withColumn(\n",
    "    'CUST_CITY',\n",
    "    F.regexp_replace(df_customer['CUST_CITY'], \"(?<=.)([A-Z])\", ' $1')\n",
    ")\n",
    "\n",
    "df_customer.select('CUST_CITY').show()"
   ]
  },
  {
   "cell_type": "code",
   "execution_count": 30,
   "metadata": {},
   "outputs": [
    {
     "name": "stdout",
     "output_type": "stream",
     "text": [
      "+------------------------------+\n",
      "|count(DISTINCT CREDIT_CARD_NO)|\n",
      "+------------------------------+\n",
      "|                           952|\n",
      "+------------------------------+\n",
      "\n",
      "+-------------------+\n",
      "|count(DISTINCT SSN)|\n",
      "+-------------------+\n",
      "|                952|\n",
      "+-------------------+\n",
      "\n",
      "+--------------------------+\n",
      "|count(DISTINCT CUST_PHONE)|\n",
      "+--------------------------+\n",
      "|                       901|\n",
      "+--------------------------+\n",
      "\n",
      "+--------------------------+\n",
      "|count(DISTINCT CUST_EMAIL)|\n",
      "+--------------------------+\n",
      "|                       928|\n",
      "+--------------------------+\n",
      "\n"
     ]
    }
   ],
   "source": [
    "df_customer.select(F.countDistinct(\"CREDIT_CARD_NO\")).show()\n",
    "df_customer.select(F.countDistinct(\"SSN\")).show()\n",
    "df_customer.select(F.countDistinct(\"CUST_PHONE\")).show()\n",
    "df_customer.select(F.countDistinct(\"CUST_EMAIL\")).show()"
   ]
  },
  {
   "cell_type": "code",
   "execution_count": 31,
   "metadata": {},
   "outputs": [
    {
     "name": "stdout",
     "output_type": "stream",
     "text": [
      "+-----------------+------+\n",
      "|      STREET_NAME|APT_NO|\n",
      "+-----------------+------+\n",
      "|Main Street North|   656|\n",
      "|    Redwood Drive|   829|\n",
      "| 12th Street East|   683|\n",
      "|Country Club Road|   253|\n",
      "|   Madison Street|   301|\n",
      "|   Colonial Drive|     3|\n",
      "|   Belmont Avenue|    84|\n",
      "|     Oxford Court|   728|\n",
      "|    Forest Street|    81|\n",
      "|     Court Street|   561|\n",
      "+-----------------+------+\n",
      "only showing top 10 rows\n",
      "\n"
     ]
    }
   ],
   "source": [
    "df_customer.select('STREET_NAME','APT_NO').show(10)"
   ]
  },
  {
   "cell_type": "code",
   "execution_count": 32,
   "metadata": {},
   "outputs": [
    {
     "name": "stdout",
     "output_type": "stream",
     "text": [
      "+---------+----------+-----------+---------+----------------+------+-----------------+-------------+----------+-------------+--------+----------+--------------------+--------------------+--------------------+\n",
      "|      SSN|FIRST_NAME|MIDDLE_NAME|LAST_NAME|  CREDIT_CARD_NO|APT_NO|      STREET_NAME|    CUST_CITY|CUST_STATE| CUST_COUNTRY|CUST_ZIP|CUST_PHONE|          CUST_EMAIL|        LAST_UPDATED| FULL_STREET_ADDRESS|\n",
      "+---------+----------+-----------+---------+----------------+------+-----------------+-------------+----------+-------------+--------+----------+--------------------+--------------------+--------------------+\n",
      "|123456100|      Alec|         Wm|   Hooper|4210653310061055|   656|Main Street North|      Natchez|        MS|United States|   39120|   1237818| AHooper@example.com|2018-04-21T12:49:...|656, Main Street ...|\n",
      "|123453023|      Etta|    Brendan|   Holman|4210653310102868|   829|    Redwood Drive| Wethersfield|        CT|United States|   06109|   1238933| EHolman@example.com|2018-04-21T12:49:...|  829, Redwood Drive|\n",
      "|123454487|    Wilber|   Ezequiel|   Dunham|4210653310116272|   683| 12th Street East|      Huntley|        IL|United States|   60142|   1243018| WDunham@example.com|2018-04-21T12:49:...|683, 12th Street ...|\n",
      "|123459758|   Eugenio|      Trina|    Hardy|4210653310195948|   253|Country Club Road|   New Berlin|        WI|United States|   53151|   1243215|  EHardy@example.com|2018-04-21T12:49:...|253, Country Club...|\n",
      "|123454431|   Wilfred|        May|    Ayers|4210653310356919|   301|   Madison Street|      El Paso|        TX|United States|   79930|   1242074|  WAyers@example.com|2018-04-21T12:49:...| 301, Madison Street|\n",
      "|123454202|      Beau|    Ambrose|  Woodard|4210653310395982|     3|   Colonial Drive|North Olmsted|        OH|United States|   44070|   1242570|BWoodard@example.com|2018-04-21T12:49:...|   3, Colonial Drive|\n",
      "|123451799|    Sheila|      Larry|     Kemp|4210653310400536|    84|   Belmont Avenue|       Vienna|        VA|United States|   22180|   1239685|   SKemp@example.com|2018-04-21T12:49:...|  84, Belmont Avenue|\n",
      "|123453875|     Wendy|        Ora|   Hurley|4210653310459911|   728|     Oxford Court|       Duarte|        CA|United States|   91010|   1238213| WHurley@example.com|2018-04-21T12:49:...|   728, Oxford Court|\n",
      "|123457511|      Alec|     Tracie|  Gilmore|4210653310773972|    81|    Forest Street|       Owosso|        MI|United States|   48867|   1240689|AGilmore@example.com|2018-04-21T12:49:...|   81, Forest Street|\n",
      "|123457464|    Barbra|    Mitchel|      Lau|4210653310794854|   561|     Court Street|         Zion|        IL|United States|   60099|   1235222|    BLau@example.com|2018-04-21T12:49:...|   561, Court Street|\n",
      "|123457639|   Edmundo|      Denny|  Thomson|4210653310817373|   622|    Cypress Court|   Youngstown|        OH|United States|   44512|   1241363|EThomson@example.com|2018-04-21T12:49:...|  622, Cypress Court|\n",
      "|123453242|      Elsa|   Isabelle|   Truong|4210653310844617|   924|  8th Street West|  Summerville|        SC|United States|   29483|   1236228| ETruong@example.com|2018-04-21T12:49:...|924, 8th Street West|\n",
      "|123454339|     Homer|      Henry| Mckinney|4210653311015303|   611|      East Avenue|      El Paso|        TX|United States|   79930|   1238165|HMckinney@example...|2018-04-21T12:49:...|    611, East Avenue|\n",
      "|123454537|      Rita|     Rickey|     Kidd|4210653311215039|   680|         Route 44|       Fenton|        MI|United States|   48430|   1234730|   RKidd@example.com|2018-04-21T12:49:...|       680, Route 44|\n",
      "|123452373|    Amalia|  Heriberto|  Ballard|4210653311229354|    71|    Warren Street|   Grandville|        MI|United States|   49418|   1242113|ABallard@example.com|2018-04-21T12:49:...|   71, Warren Street|\n",
      "|123455343|     Patty|   Angelita|   Thomas|4210653311652836|   195|     Jones Street|    Yuba City|        CA|United States|   95993|   1239888| PThomas@example.com|2018-04-21T12:49:...|   195, Jones Street|\n",
      "|123451533|  Josefina|   Dorothea|   Morrow|4210653311707126|   500|       New Street|   Cape Coral|        FL|United States|   33904|   1240158| JMorrow@example.com|2018-04-21T12:49:...|     500, New Street|\n",
      "|123459278|    Nelson|  Jefferson|  Andrews|4210653311730764|   989|  Division Street|   Brookfield|        WI|United States|   53045|   1241408|NAndrews@example.com|2018-04-21T12:49:...|989, Division Street|\n",
      "|123456915|    Miquel|     Maximo|Schneider|4210653311898082|   810|     Maple Street|     Richmond|        VA|United States|   23223|   1238390|MSchneider@exampl...|2018-04-21T12:49:...|   810, Maple Street|\n",
      "|123453807|    Parker|    Arnulfo|  Tidwell|4210653312021765|   649|       Eagle Road| West Chester|        PA|United States|   19380|   1235067|PTidwell@example.com|2018-04-21T12:49:...|     649, Eagle Road|\n",
      "+---------+----------+-----------+---------+----------------+------+-----------------+-------------+----------+-------------+--------+----------+--------------------+--------------------+--------------------+\n",
      "only showing top 20 rows\n",
      "\n"
     ]
    }
   ],
   "source": [
    "df_customer = df_customer.withColumn(\"FULL_STREET_ADDRESS\", concat(df_customer[\"APT_NO\"], lit(\", \"), df_customer[\"STREET_NAME\"]))\n",
    "df_customer.show()"
   ]
  },
  {
   "cell_type": "code",
   "execution_count": 33,
   "metadata": {},
   "outputs": [
    {
     "name": "stdout",
     "output_type": "stream",
     "text": [
      "+---------+----------+-----------+---------+----------------+--------------------+-------------+----------+-------------+--------+----------+--------------------+--------------------+\n",
      "|      SSN|FIRST_NAME|MIDDLE_NAME|LAST_NAME|  CREDIT_CARD_NO| FULL_STREET_ADDRESS|    CUST_CITY|CUST_STATE| CUST_COUNTRY|CUST_ZIP|CUST_PHONE|          CUST_EMAIL|        LAST_UPDATED|\n",
      "+---------+----------+-----------+---------+----------------+--------------------+-------------+----------+-------------+--------+----------+--------------------+--------------------+\n",
      "|123456100|      Alec|         Wm|   Hooper|4210653310061055|656, Main Street ...|      Natchez|        MS|United States|   39120|   1237818| AHooper@example.com|2018-04-21T12:49:...|\n",
      "|123453023|      Etta|    Brendan|   Holman|4210653310102868|  829, Redwood Drive| Wethersfield|        CT|United States|   06109|   1238933| EHolman@example.com|2018-04-21T12:49:...|\n",
      "|123454487|    Wilber|   Ezequiel|   Dunham|4210653310116272|683, 12th Street ...|      Huntley|        IL|United States|   60142|   1243018| WDunham@example.com|2018-04-21T12:49:...|\n",
      "|123459758|   Eugenio|      Trina|    Hardy|4210653310195948|253, Country Club...|   New Berlin|        WI|United States|   53151|   1243215|  EHardy@example.com|2018-04-21T12:49:...|\n",
      "|123454431|   Wilfred|        May|    Ayers|4210653310356919| 301, Madison Street|      El Paso|        TX|United States|   79930|   1242074|  WAyers@example.com|2018-04-21T12:49:...|\n",
      "|123454202|      Beau|    Ambrose|  Woodard|4210653310395982|   3, Colonial Drive|North Olmsted|        OH|United States|   44070|   1242570|BWoodard@example.com|2018-04-21T12:49:...|\n",
      "|123451799|    Sheila|      Larry|     Kemp|4210653310400536|  84, Belmont Avenue|       Vienna|        VA|United States|   22180|   1239685|   SKemp@example.com|2018-04-21T12:49:...|\n",
      "|123453875|     Wendy|        Ora|   Hurley|4210653310459911|   728, Oxford Court|       Duarte|        CA|United States|   91010|   1238213| WHurley@example.com|2018-04-21T12:49:...|\n",
      "|123457511|      Alec|     Tracie|  Gilmore|4210653310773972|   81, Forest Street|       Owosso|        MI|United States|   48867|   1240689|AGilmore@example.com|2018-04-21T12:49:...|\n",
      "|123457464|    Barbra|    Mitchel|      Lau|4210653310794854|   561, Court Street|         Zion|        IL|United States|   60099|   1235222|    BLau@example.com|2018-04-21T12:49:...|\n",
      "|123457639|   Edmundo|      Denny|  Thomson|4210653310817373|  622, Cypress Court|   Youngstown|        OH|United States|   44512|   1241363|EThomson@example.com|2018-04-21T12:49:...|\n",
      "|123453242|      Elsa|   Isabelle|   Truong|4210653310844617|924, 8th Street West|  Summerville|        SC|United States|   29483|   1236228| ETruong@example.com|2018-04-21T12:49:...|\n",
      "|123454339|     Homer|      Henry| Mckinney|4210653311015303|    611, East Avenue|      El Paso|        TX|United States|   79930|   1238165|HMckinney@example...|2018-04-21T12:49:...|\n",
      "|123454537|      Rita|     Rickey|     Kidd|4210653311215039|       680, Route 44|       Fenton|        MI|United States|   48430|   1234730|   RKidd@example.com|2018-04-21T12:49:...|\n",
      "|123452373|    Amalia|  Heriberto|  Ballard|4210653311229354|   71, Warren Street|   Grandville|        MI|United States|   49418|   1242113|ABallard@example.com|2018-04-21T12:49:...|\n",
      "|123455343|     Patty|   Angelita|   Thomas|4210653311652836|   195, Jones Street|    Yuba City|        CA|United States|   95993|   1239888| PThomas@example.com|2018-04-21T12:49:...|\n",
      "|123451533|  Josefina|   Dorothea|   Morrow|4210653311707126|     500, New Street|   Cape Coral|        FL|United States|   33904|   1240158| JMorrow@example.com|2018-04-21T12:49:...|\n",
      "|123459278|    Nelson|  Jefferson|  Andrews|4210653311730764|989, Division Street|   Brookfield|        WI|United States|   53045|   1241408|NAndrews@example.com|2018-04-21T12:49:...|\n",
      "|123456915|    Miquel|     Maximo|Schneider|4210653311898082|   810, Maple Street|     Richmond|        VA|United States|   23223|   1238390|MSchneider@exampl...|2018-04-21T12:49:...|\n",
      "|123453807|    Parker|    Arnulfo|  Tidwell|4210653312021765|     649, Eagle Road| West Chester|        PA|United States|   19380|   1235067|PTidwell@example.com|2018-04-21T12:49:...|\n",
      "+---------+----------+-----------+---------+----------------+--------------------+-------------+----------+-------------+--------+----------+--------------------+--------------------+\n",
      "only showing top 20 rows\n",
      "\n"
     ]
    }
   ],
   "source": [
    "df_customer = df_customer.select('SSN', 'FIRST_NAME', 'MIDDLE_NAME', 'LAST_NAME',  \\\n",
    "            'CREDIT_CARD_NO', 'FULL_STREET_ADDRESS', 'CUST_CITY', 'CUST_STATE',  \\\n",
    "            'CUST_COUNTRY', 'CUST_ZIP', 'CUST_PHONE', 'CUST_EMAIL', 'LAST_UPDATED')\n",
    "\n",
    "df_customer.show()"
   ]
  },
  {
   "cell_type": "code",
   "execution_count": 34,
   "metadata": {},
   "outputs": [],
   "source": [
    "# Define the list of area codes\n",
    "area_codes = [\"212\", \"213\", \"214\", \"215\", \"216\", \"217\", \"218\", \"219\", \"220\", \"221\"\n",
    "              \"312\", \"313\", \"314\", \"315\", \"316\", \"317\", \"318\", \"319\", \"320\", \"321\"\n",
    "              \"412\", \"413\", \"414\", \"415\", \"416\", \"417\", \"418\", \"419\", \"420\", \"421\"\n",
    "              \"512\", \"513\", \"514\", \"515\", \"516\", \"517\", \"518\", \"519\", \"520\", \"521\"\n",
    "              \"712\", \"713\", \"714\", \"715\", \"716\", \"717\", \"718\", \"719\", \"720\", \"721\"]  \n",
    "\n",
    "# Define the UDF\n",
    "def random_area_code(phone):\n",
    "    phone = str(phone)\n",
    "    if len(phone) == 7:\n",
    "        return random.choice(area_codes) + phone\n",
    "    elif len(phone) == 10:\n",
    "        return phone\n",
    "    else:\n",
    "        return phone\n",
    "\n",
    "# Register the UDF with Spark\n",
    "random_area_code = udf(random_area_code, StringType())\n",
    "\n",
    "# Apply the UDF to the dataframe\n",
    "#df_customer = df_customer.withColumn(\"CUST_PHONE\", random_area_code(\"CUST_PHONE\"))\n",
    "df_customer = df_customer.withColumn(\"CUST_PHONE\", \n",
    "                   random_area_code(\"CUST_PHONE\")).filter(length(df_customer['CUST_PHONE']) <= 10)\n",
    "\n",
    "valid_phone = df_customer.filter(length(df_customer['CUST_PHONE']) == 10)\n"
   ]
  },
  {
   "cell_type": "code",
   "execution_count": 35,
   "metadata": {},
   "outputs": [
    {
     "name": "stdout",
     "output_type": "stream",
     "text": [
      "81\n"
     ]
    }
   ],
   "source": [
    "invalid_count = df_customer.count() - valid_phone.count()\n",
    "print(invalid_count)\n"
   ]
  },
  {
   "cell_type": "code",
   "execution_count": 36,
   "metadata": {},
   "outputs": [
    {
     "name": "stdout",
     "output_type": "stream",
     "text": [
      "+---------+----------+-----------+----------+----------------+--------------------+----------------+----------+-------------+--------+-------------+--------------------+--------------------+\n",
      "|      SSN|FIRST_NAME|MIDDLE_NAME| LAST_NAME|  CREDIT_CARD_NO| FULL_STREET_ADDRESS|       CUST_CITY|CUST_STATE| CUST_COUNTRY|CUST_ZIP|   CUST_PHONE|          CUST_EMAIL|        LAST_UPDATED|\n",
      "+---------+----------+-----------+----------+----------------+--------------------+----------------+----------+-------------+--------+-------------+--------------------+--------------------+\n",
      "|123452373|    Amalia|  Heriberto|   Ballard|4210653311229354|   71, Warren Street|      Grandville|        MI|United States|   49418|5217121242113|ABallard@example.com|2018-04-21T12:49:...|\n",
      "|123455343|     Patty|   Angelita|    Thomas|4210653311652836|   195, Jones Street|       Yuba City|        CA|United States|   95993|   5141239888| PThomas@example.com|2018-04-21T12:49:...|\n",
      "|123454933|   Marcelo|    Gonzalo|   Emerson|4210653313038847|404, Marshall Street|      Grandville|        MI|United States|   49418|   5151243173|MEmerson@example.com|2018-04-21T12:49:...|\n",
      "|123452214|   Miranda|     Corina|   Chapman|4210653313138450|340, Jefferson St...|          Chaska|        MN|United States|   55318|   5141236237|MChapman@example.com|2018-04-21T12:49:...|\n",
      "|123459909|    Jasmin|    Rosario|     Moody|4210653313825914|   472, Grant Street|New Philadelphia|        OH|United States|   44663|4215121235080|  JMoody@example.com|2018-04-21T12:49:...|\n",
      "|123456436|      Alex|       Jame| Dougherty|4210653314629341|501, Crescent Street|      Reidsville|        NC|United States|   27320|   2171238759|ADougherty@exampl...|2018-04-21T12:49:...|\n",
      "|123455734|   Felicia|        May|  Mckinley|4210653315669217|698, Washington S...|       Pittsford|        NY|United States|   14534|   3141241925|FMckinley@example...|2018-04-21T12:49:...|\n",
      "|123456407|       Tom|   Kathrine|       Liu|4210653317631607|138, Briarwood Court|      Youngstown|        OH|United States|   44512|   4181242793|    TLiu@example.com|2018-04-21T12:49:...|\n",
      "|123456747|     Angie|      Sonia|  Lockhart|4210653319388256|719, Brandywine D...|        Richmond|        VA|United States|   23223|   7161236726|ALockhart@example...|2018-04-21T12:49:...|\n",
      "|123454956|  Gretchen|    Natalia|    Nguyen|4210653319415654|695, Cleveland Av...|       Brentwood|        NY|United States|   11717|3214121235530| GNguyen@example.com|2018-04-21T12:49:...|\n",
      "|123456281|    Hallie|   Ashleigh|  Caldwell|4210653319939313|  993, Howard Street|      Youngstown|        OH|United States|   44512|   5161239348|HCaldwell@example...|2018-04-21T12:49:...|\n",
      "|123453332|   Spencer|   Isabella|   Sprague|4210653321036329|761, Cleveland Av...|       Davenport|        IA|United States|   52804|   4191240036|SSprague@example.com|2018-04-21T12:49:...|\n",
      "|123454553|   Charley|    Marissa|     Ahmed|4210653321479572|  117, Madison Court|   Mechanicsburg|        PA|United States|   17050|   7161240311|  CAhmed@example.com|2018-04-21T12:49:...|\n",
      "|123459805|       Jon|      Lorie|     Bower|4210653322099721| 92, Brookside Drive|    Independence|        KY|United States|   41051|   4131241785|  JBower@example.com|2018-04-21T12:49:...|\n",
      "|123451830|     Sandy|    Wendell|    Fisher|4210653322920523|    332, Race Street|         Houston|        TX|United States|   77016|   7191236273| SFisher@example.com|2018-04-21T12:49:...|\n",
      "|123453520|    Beulah|    Winford|      Howe|4210653323141413|     471, 6th Avenue|       Frederick|        MD|United States|   21701|   5181235177|   BHowe@example.com|2018-04-21T12:49:...|\n",
      "|123454531|    Serena|     Elinor|       Kim|4210653324242739|    7, Meadow Street|       Frankfort|        KY|United States|   40601|   4161237994|    SKim@example.com|2018-04-21T12:49:...|\n",
      "|123455792|    Miquel|     Lorrie|Harrington|4210653324302551|   139, North Street|      Midlothian|        VA|United States|   23112|2213121243349|MHarrington@examp...|2018-04-21T12:49:...|\n",
      "|123455219|   Sheldon|     Sammie|   Terrell|4210653325414547|      802, Ivy Court|        Victoria|        TX|United States|   77904|   2141243026|STerrell@example.com|2018-04-21T12:49:...|\n",
      "|123454668|     Santo|        Mai|      Hoyt|4210653327130934|  246, Fulton Street|    Wethersfield|        CT|United States|   06109|   5181239238|   SHoyt@example.com|2018-04-21T12:49:...|\n",
      "+---------+----------+-----------+----------+----------------+--------------------+----------------+----------+-------------+--------+-------------+--------------------+--------------------+\n",
      "only showing top 20 rows\n",
      "\n"
     ]
    }
   ],
   "source": [
    "invalid_phone_df = df_customer.filter(length(df_customer['CUST_PHONE']) != 10)\n",
    "invalid_phone_df.show()"
   ]
  },
  {
   "cell_type": "code",
   "execution_count": 37,
   "metadata": {},
   "outputs": [],
   "source": [
    "# convert phone numbers to this (000)000-0000 format \n",
    "df_customer = df_customer.withColumn('CUST_PHONE',\n",
    "            F.format_string(\"(%s)%s-%s\", \n",
    "                            F.substring(df_customer['CUST_PHONE'], 1, 3), \n",
    "                            F.substring(df_customer['CUST_PHONE'], 4, 3), \n",
    "                            F.substring(df_customer['CUST_PHONE'], 7, 4)))"
   ]
  },
  {
   "cell_type": "code",
   "execution_count": 38,
   "metadata": {},
   "outputs": [
    {
     "name": "stdout",
     "output_type": "stream",
     "text": [
      "+-------------+\n",
      "|   CUST_PHONE|\n",
      "+-------------+\n",
      "|(721)123-7818|\n",
      "|(212)123-8933|\n",
      "|(212)124-3018|\n",
      "|(215)124-3215|\n",
      "|(420)124-2074|\n",
      "|(414)124-2570|\n",
      "|(218)123-9685|\n",
      "|(221)312-1238|\n",
      "|(220)124-0689|\n",
      "|(320)123-5222|\n",
      "|(513)124-1363|\n",
      "|(316)123-6228|\n",
      "|(416)123-8165|\n",
      "|(321)412-1234|\n",
      "|(519)124-2113|\n",
      "|(514)123-9888|\n",
      "|(520)124-0158|\n",
      "|(513)124-1408|\n",
      "|(519)123-8390|\n",
      "|(213)123-5067|\n",
      "+-------------+\n",
      "only showing top 20 rows\n",
      "\n"
     ]
    }
   ],
   "source": [
    "# verify if phone was converted to required format\n",
    "df_customer.select('CUST_PHONE').show()"
   ]
  },
  {
   "cell_type": "code",
   "execution_count": 39,
   "metadata": {},
   "outputs": [
    {
     "name": "stdout",
     "output_type": "stream",
     "text": [
      "+-------------+-----+\n",
      "|   CUST_PHONE|count|\n",
      "+-------------+-----+\n",
      "|(421)512-1237|    7|\n",
      "|(321)412-1235|    6|\n",
      "|(521)712-1238|    6|\n",
      "|(521)712-1242|    5|\n",
      "|(321)412-1236|    4|\n",
      "|(221)312-1237|    4|\n",
      "|(321)412-1239|    4|\n",
      "|(421)512-1240|    4|\n",
      "|(421)512-1243|    3|\n",
      "|(221)312-1236|    3|\n",
      "|(521)712-1239|    3|\n",
      "|(521)712-1241|    3|\n",
      "|(221)312-1238|    3|\n",
      "|(521)712-1240|    3|\n",
      "|(321)412-1241|    3|\n",
      "|(221)312-1235|    2|\n",
      "|(521)712-1237|    2|\n",
      "|(221)312-1240|    2|\n",
      "|(321)412-1240|    2|\n",
      "|(321)412-1242|    2|\n",
      "+-------------+-----+\n",
      "only showing top 20 rows\n",
      "\n"
     ]
    }
   ],
   "source": [
    "df_customer.groupBy('CUST_PHONE').count().orderBy(F.col('count').desc()).show()\n"
   ]
  },
  {
   "cell_type": "code",
   "execution_count": 40,
   "metadata": {},
   "outputs": [
    {
     "name": "stdout",
     "output_type": "stream",
     "text": [
      "+-------------+-----+\n",
      "|   CUST_PHONE|count|\n",
      "+-------------+-----+\n",
      "|(413)124-2311|    1|\n",
      "|(513)123-7245|    1|\n",
      "|(215)124-0724|    1|\n",
      "|(317)123-9668|    1|\n",
      "|(216)124-1962|    1|\n",
      "|(715)123-7172|    1|\n",
      "|(413)123-9063|    1|\n",
      "|(321)412-1236|    2|\n",
      "|(213)123-8430|    1|\n",
      "|(214)124-1308|    1|\n",
      "|(713)123-5511|    1|\n",
      "|(718)124-1268|    1|\n",
      "|(421)512-1235|    4|\n",
      "|(321)412-1240|    1|\n",
      "|(214)124-2942|    1|\n",
      "|(518)124-2269|    1|\n",
      "|(216)124-3343|    1|\n",
      "|(517)124-2509|    1|\n",
      "|(516)123-5913|    1|\n",
      "|(420)123-7727|    1|\n",
      "+-------------+-----+\n",
      "only showing top 20 rows\n",
      "\n"
     ]
    }
   ],
   "source": [
    "# Group by CUST_PHONE and count the occurrences\n",
    "phone_duplicates = df_customer.groupBy(\"CUST_PHONE\").agg(F.count(\"CUST_PHONE\").alias(\"count\"))\n",
    "phone_duplicates.show()\n",
    "\n",
    "#Filter for phone numbers that appear more than once\n",
    "#phone_duplicates = df_customer.filter(df_customer[\"count\"] >= 1)\n",
    "\n",
    "#phone_duplicates.show()\n"
   ]
  },
  {
   "cell_type": "code",
   "execution_count": 41,
   "metadata": {},
   "outputs": [
    {
     "name": "stdout",
     "output_type": "stream",
     "text": [
      "+-----------+\n",
      "|MIDDLE_NAME|\n",
      "+-----------+\n",
      "|         wm|\n",
      "|    brendan|\n",
      "|   ezequiel|\n",
      "|      trina|\n",
      "|        may|\n",
      "|    ambrose|\n",
      "|      larry|\n",
      "|        ora|\n",
      "|     tracie|\n",
      "|    mitchel|\n",
      "|      denny|\n",
      "|   isabelle|\n",
      "|      henry|\n",
      "|     rickey|\n",
      "|  heriberto|\n",
      "|   angelita|\n",
      "|   dorothea|\n",
      "|  jefferson|\n",
      "|     maximo|\n",
      "|    arnulfo|\n",
      "+-----------+\n",
      "only showing top 20 rows\n",
      "\n"
     ]
    }
   ],
   "source": [
    "# convert middle names to lower case.\n",
    "df_customer = df_customer.withColumn('MIDDLE_NAME', lower(df_customer['MIDDLE_NAME']))\n",
    "df_customer.select('MIDDLE_NAME').show()"
   ]
  },
  {
   "cell_type": "code",
   "execution_count": 42,
   "metadata": {},
   "outputs": [],
   "source": [
    "# convert first letter of first and last names to capital letters\n",
    "df_customer = df_customer.withColumn('FIRST_NAME', initcap(df_customer['FIRST_NAME']))\n",
    "df_customer = df_customer.withColumn('LAST_NAME', initcap(df_customer['LAST_NAME']))"
   ]
  },
  {
   "cell_type": "code",
   "execution_count": 50,
   "metadata": {},
   "outputs": [
    {
     "name": "stdout",
     "output_type": "stream",
     "text": [
      "+---------+----------+-----------+---------+----------------+--------------------+-------------+----------+-------------+--------+-------------+--------------------+--------------------+\n",
      "|      SSN|FIRST_NAME|MIDDLE_NAME|LAST_NAME|  CREDIT_CARD_NO| FULL_STREET_ADDRESS|    CUST_CITY|CUST_STATE| CUST_COUNTRY|CUST_ZIP|   CUST_PHONE|          CUST_EMAIL|        LAST_UPDATED|\n",
      "+---------+----------+-----------+---------+----------------+--------------------+-------------+----------+-------------+--------+-------------+--------------------+--------------------+\n",
      "|123456100|      Alec|         wm|   Hooper|4210653310061055|656, Main Street ...|      Natchez|        MS|United States|   39120|(418)123-7818| AHooper@example.com|2018-04-21T12:49:...|\n",
      "|123453023|      Etta|    brendan|   Holman|4210653310102868|  829, Redwood Drive| Wethersfield|        CT|United States|   06109|(318)123-8933| EHolman@example.com|2018-04-21T12:49:...|\n",
      "|123454487|    Wilber|   ezequiel|   Dunham|4210653310116272|683, 12th Street ...|      Huntley|        IL|United States|   60142|(321)412-1243| WDunham@example.com|2018-04-21T12:49:...|\n",
      "|123459758|   Eugenio|      trina|    Hardy|4210653310195948|253, Country Club...|   New Berlin|        WI|United States|   53151|(421)512-1243|  EHardy@example.com|2018-04-21T12:49:...|\n",
      "|123454431|   Wilfred|        may|    Ayers|4210653310356919| 301, Madison Street|      El Paso|        TX|United States|   79930|(221)312-1242|  WAyers@example.com|2018-04-21T12:49:...|\n",
      "|123454202|      Beau|    ambrose|  Woodard|4210653310395982|   3, Colonial Drive|North Olmsted|        OH|United States|   44070|(520)124-2570|BWoodard@example.com|2018-04-21T12:49:...|\n",
      "|123451799|    Sheila|      larry|     Kemp|4210653310400536|  84, Belmont Avenue|       Vienna|        VA|United States|   22180|(717)123-9685|   SKemp@example.com|2018-04-21T12:49:...|\n",
      "|123453875|     Wendy|        ora|   Hurley|4210653310459911|   728, Oxford Court|       Duarte|        CA|United States|   91010|(220)123-8213| WHurley@example.com|2018-04-21T12:49:...|\n",
      "|123457511|      Alec|     tracie|  Gilmore|4210653310773972|   81, Forest Street|       Owosso|        MI|United States|   48867|(215)124-0689|AGilmore@example.com|2018-04-21T12:49:...|\n",
      "|123457464|    Barbra|    mitchel|      Lau|4210653310794854|   561, Court Street|         Zion|        IL|United States|   60099|(714)123-5222|    BLau@example.com|2018-04-21T12:49:...|\n",
      "|123457639|   Edmundo|      denny|  Thomson|4210653310817373|  622, Cypress Court|   Youngstown|        OH|United States|   44512|(416)124-1363|EThomson@example.com|2018-04-21T12:49:...|\n",
      "|123453242|      Elsa|   isabelle|   Truong|4210653310844617|924, 8th Street West|  Summerville|        SC|United States|   29483|(520)123-6228| ETruong@example.com|2018-04-21T12:49:...|\n",
      "|123454339|     Homer|      henry| Mckinney|4210653311015303|    611, East Avenue|      El Paso|        TX|United States|   79930|(315)123-8165|HMckinney@example...|2018-04-21T12:49:...|\n",
      "|123454537|      Rita|     rickey|     Kidd|4210653311215039|       680, Route 44|       Fenton|        MI|United States|   48430|(513)123-4730|   RKidd@example.com|2018-04-21T12:49:...|\n",
      "|123452373|    Amalia|  heriberto|  Ballard|4210653311229354|   71, Warren Street|   Grandville|        MI|United States|   49418|(218)124-2113|ABallard@example.com|2018-04-21T12:49:...|\n",
      "|123455343|     Patty|   angelita|   Thomas|4210653311652836|   195, Jones Street|    Yuba City|        CA|United States|   95993|(416)123-9888| PThomas@example.com|2018-04-21T12:49:...|\n",
      "|123451533|  Josefina|   dorothea|   Morrow|4210653311707126|     500, New Street|   Cape Coral|        FL|United States|   33904|(717)124-0158| JMorrow@example.com|2018-04-21T12:49:...|\n",
      "|123459278|    Nelson|  jefferson|  Andrews|4210653311730764|989, Division Street|   Brookfield|        WI|United States|   53045|(717)124-1408|NAndrews@example.com|2018-04-21T12:49:...|\n",
      "|123456915|    Miquel|     maximo|Schneider|4210653311898082|   810, Maple Street|     Richmond|        VA|United States|   23223|(518)123-8390|MSchneider@exampl...|2018-04-21T12:49:...|\n",
      "|123453807|    Parker|    arnulfo|  Tidwell|4210653312021765|     649, Eagle Road| West Chester|        PA|United States|   19380|(518)123-5067|PTidwell@example.com|2018-04-21T12:49:...|\n",
      "+---------+----------+-----------+---------+----------------+--------------------+-------------+----------+-------------+--------+-------------+--------------------+--------------------+\n",
      "only showing top 20 rows\n",
      "\n",
      "root\n",
      " |-- SSN: long (nullable = true)\n",
      " |-- FIRST_NAME: string (nullable = true)\n",
      " |-- MIDDLE_NAME: string (nullable = true)\n",
      " |-- LAST_NAME: string (nullable = true)\n",
      " |-- CREDIT_CARD_NO: string (nullable = true)\n",
      " |-- FULL_STREET_ADDRESS: string (nullable = true)\n",
      " |-- CUST_CITY: string (nullable = true)\n",
      " |-- CUST_STATE: string (nullable = true)\n",
      " |-- CUST_COUNTRY: string (nullable = true)\n",
      " |-- CUST_ZIP: string (nullable = true)\n",
      " |-- CUST_PHONE: string (nullable = false)\n",
      " |-- CUST_EMAIL: string (nullable = true)\n",
      " |-- LAST_UPDATED: string (nullable = true)\n",
      "\n"
     ]
    }
   ],
   "source": [
    "df_customer.show()\n",
    "df_customer.printSchema()\n"
   ]
  },
  {
   "cell_type": "code",
   "execution_count": 51,
   "metadata": {},
   "outputs": [
    {
     "ename": "Py4JJavaError",
     "evalue": "An error occurred while calling o443.save.\n: org.apache.spark.SparkException: Job aborted due to stage failure: Task 0 in stage 98.0 failed 1 times, most recent failure: Lost task 0.0 in stage 98.0 (TID 66) (LAPTOP-IQMPCJRO executor driver): java.sql.BatchUpdateException: Data truncation: Data too long for column 'CUST_COUNTRY' at row 1\r\n\tat java.base/jdk.internal.reflect.NativeConstructorAccessorImpl.newInstance0(Native Method)\r\n\tat java.base/jdk.internal.reflect.NativeConstructorAccessorImpl.newInstance(NativeConstructorAccessorImpl.java:75)\r\n\tat java.base/jdk.internal.reflect.DelegatingConstructorAccessorImpl.newInstance(DelegatingConstructorAccessorImpl.java:53)\r\n\tat java.base/java.lang.reflect.Constructor.newInstanceWithCaller(Constructor.java:500)\r\n\tat java.base/java.lang.reflect.Constructor.newInstance(Constructor.java:484)\r\n\tat com.mysql.cj.util.Util.handleNewInstance(Util.java:192)\r\n\tat com.mysql.cj.util.Util.getInstance(Util.java:167)\r\n\tat com.mysql.cj.util.Util.getInstance(Util.java:174)\r\n\tat com.mysql.cj.jdbc.exceptions.SQLError.createBatchUpdateException(SQLError.java:224)\r\n\tat com.mysql.cj.jdbc.ClientPreparedStatement.executeBatchSerially(ClientPreparedStatement.java:853)\r\n\tat com.mysql.cj.jdbc.ClientPreparedStatement.executeBatchInternal(ClientPreparedStatement.java:435)\r\n\tat com.mysql.cj.jdbc.StatementImpl.executeBatch(StatementImpl.java:794)\r\n\tat org.apache.spark.sql.execution.datasources.jdbc.JdbcUtils$.savePartition(JdbcUtils.scala:740)\r\n\tat org.apache.spark.sql.execution.datasources.jdbc.JdbcUtils$.$anonfun$saveTable$1(JdbcUtils.scala:891)\r\n\tat org.apache.spark.sql.execution.datasources.jdbc.JdbcUtils$.$anonfun$saveTable$1$adapted(JdbcUtils.scala:890)\r\n\tat org.apache.spark.rdd.RDD.$anonfun$foreachPartition$2(RDD.scala:1009)\r\n\tat org.apache.spark.rdd.RDD.$anonfun$foreachPartition$2$adapted(RDD.scala:1009)\r\n\tat org.apache.spark.SparkContext.$anonfun$runJob$5(SparkContext.scala:2303)\r\n\tat org.apache.spark.scheduler.ResultTask.runTask(ResultTask.scala:92)\r\n\tat org.apache.spark.TaskContext.runTaskWithListeners(TaskContext.scala:161)\r\n\tat org.apache.spark.scheduler.Task.run(Task.scala:139)\r\n\tat org.apache.spark.executor.Executor$TaskRunner.$anonfun$run$3(Executor.scala:554)\r\n\tat org.apache.spark.util.Utils$.tryWithSafeFinally(Utils.scala:1529)\r\n\tat org.apache.spark.executor.Executor$TaskRunner.run(Executor.scala:557)\r\n\tat java.base/java.util.concurrent.ThreadPoolExecutor.runWorker(ThreadPoolExecutor.java:1144)\r\n\tat java.base/java.util.concurrent.ThreadPoolExecutor$Worker.run(ThreadPoolExecutor.java:642)\r\n\tat java.base/java.lang.Thread.run(Thread.java:1623)\r\nCaused by: com.mysql.cj.jdbc.exceptions.MysqlDataTruncation: Data truncation: Data too long for column 'CUST_COUNTRY' at row 1\r\n\tat com.mysql.cj.jdbc.exceptions.SQLExceptionsMapping.translateException(SQLExceptionsMapping.java:104)\r\n\tat com.mysql.cj.jdbc.ClientPreparedStatement.executeInternal(ClientPreparedStatement.java:953)\r\n\tat com.mysql.cj.jdbc.ClientPreparedStatement.executeUpdateInternal(ClientPreparedStatement.java:1092)\r\n\tat com.mysql.cj.jdbc.ClientPreparedStatement.executeBatchSerially(ClientPreparedStatement.java:832)\r\n\t... 17 more\r\n\nDriver stacktrace:\r\n\tat org.apache.spark.scheduler.DAGScheduler.failJobAndIndependentStages(DAGScheduler.scala:2785)\r\n\tat org.apache.spark.scheduler.DAGScheduler.$anonfun$abortStage$2(DAGScheduler.scala:2721)\r\n\tat org.apache.spark.scheduler.DAGScheduler.$anonfun$abortStage$2$adapted(DAGScheduler.scala:2720)\r\n\tat scala.collection.mutable.ResizableArray.foreach(ResizableArray.scala:62)\r\n\tat scala.collection.mutable.ResizableArray.foreach$(ResizableArray.scala:55)\r\n\tat scala.collection.mutable.ArrayBuffer.foreach(ArrayBuffer.scala:49)\r\n\tat org.apache.spark.scheduler.DAGScheduler.abortStage(DAGScheduler.scala:2720)\r\n\tat org.apache.spark.scheduler.DAGScheduler.$anonfun$handleTaskSetFailed$1(DAGScheduler.scala:1206)\r\n\tat org.apache.spark.scheduler.DAGScheduler.$anonfun$handleTaskSetFailed$1$adapted(DAGScheduler.scala:1206)\r\n\tat scala.Option.foreach(Option.scala:407)\r\n\tat org.apache.spark.scheduler.DAGScheduler.handleTaskSetFailed(DAGScheduler.scala:1206)\r\n\tat org.apache.spark.scheduler.DAGSchedulerEventProcessLoop.doOnReceive(DAGScheduler.scala:2984)\r\n\tat org.apache.spark.scheduler.DAGSchedulerEventProcessLoop.onReceive(DAGScheduler.scala:2923)\r\n\tat org.apache.spark.scheduler.DAGSchedulerEventProcessLoop.onReceive(DAGScheduler.scala:2912)\r\n\tat org.apache.spark.util.EventLoop$$anon$1.run(EventLoop.scala:49)\r\n\tat org.apache.spark.scheduler.DAGScheduler.runJob(DAGScheduler.scala:971)\r\n\tat org.apache.spark.SparkContext.runJob(SparkContext.scala:2263)\r\n\tat org.apache.spark.SparkContext.runJob(SparkContext.scala:2284)\r\n\tat org.apache.spark.SparkContext.runJob(SparkContext.scala:2303)\r\n\tat org.apache.spark.SparkContext.runJob(SparkContext.scala:2328)\r\n\tat org.apache.spark.rdd.RDD.$anonfun$foreachPartition$1(RDD.scala:1009)\r\n\tat org.apache.spark.rdd.RDDOperationScope$.withScope(RDDOperationScope.scala:151)\r\n\tat org.apache.spark.rdd.RDDOperationScope$.withScope(RDDOperationScope.scala:112)\r\n\tat org.apache.spark.rdd.RDD.withScope(RDD.scala:405)\r\n\tat org.apache.spark.rdd.RDD.foreachPartition(RDD.scala:1007)\r\n\tat org.apache.spark.sql.execution.datasources.jdbc.JdbcUtils$.saveTable(JdbcUtils.scala:890)\r\n\tat org.apache.spark.sql.execution.datasources.jdbc.JdbcRelationProvider.createRelation(JdbcRelationProvider.scala:70)\r\n\tat org.apache.spark.sql.execution.datasources.SaveIntoDataSourceCommand.run(SaveIntoDataSourceCommand.scala:47)\r\n\tat org.apache.spark.sql.execution.command.ExecutedCommandExec.sideEffectResult$lzycompute(commands.scala:75)\r\n\tat org.apache.spark.sql.execution.command.ExecutedCommandExec.sideEffectResult(commands.scala:73)\r\n\tat org.apache.spark.sql.execution.command.ExecutedCommandExec.executeCollect(commands.scala:84)\r\n\tat org.apache.spark.sql.execution.QueryExecution$$anonfun$eagerlyExecuteCommands$1.$anonfun$applyOrElse$1(QueryExecution.scala:98)\r\n\tat org.apache.spark.sql.execution.SQLExecution$.$anonfun$withNewExecutionId$6(SQLExecution.scala:118)\r\n\tat org.apache.spark.sql.execution.SQLExecution$.withSQLConfPropagated(SQLExecution.scala:195)\r\n\tat org.apache.spark.sql.execution.SQLExecution$.$anonfun$withNewExecutionId$1(SQLExecution.scala:103)\r\n\tat org.apache.spark.sql.SparkSession.withActive(SparkSession.scala:827)\r\n\tat org.apache.spark.sql.execution.SQLExecution$.withNewExecutionId(SQLExecution.scala:65)\r\n\tat org.apache.spark.sql.execution.QueryExecution$$anonfun$eagerlyExecuteCommands$1.applyOrElse(QueryExecution.scala:98)\r\n\tat org.apache.spark.sql.execution.QueryExecution$$anonfun$eagerlyExecuteCommands$1.applyOrElse(QueryExecution.scala:94)\r\n\tat org.apache.spark.sql.catalyst.trees.TreeNode.$anonfun$transformDownWithPruning$1(TreeNode.scala:512)\r\n\tat org.apache.spark.sql.catalyst.trees.CurrentOrigin$.withOrigin(TreeNode.scala:104)\r\n\tat org.apache.spark.sql.catalyst.trees.TreeNode.transformDownWithPruning(TreeNode.scala:512)\r\n\tat org.apache.spark.sql.catalyst.plans.logical.LogicalPlan.org$apache$spark$sql$catalyst$plans$logical$AnalysisHelper$$super$transformDownWithPruning(LogicalPlan.scala:31)\r\n\tat org.apache.spark.sql.catalyst.plans.logical.AnalysisHelper.transformDownWithPruning(AnalysisHelper.scala:267)\r\n\tat org.apache.spark.sql.catalyst.plans.logical.AnalysisHelper.transformDownWithPruning$(AnalysisHelper.scala:263)\r\n\tat org.apache.spark.sql.catalyst.plans.logical.LogicalPlan.transformDownWithPruning(LogicalPlan.scala:31)\r\n\tat org.apache.spark.sql.catalyst.plans.logical.LogicalPlan.transformDownWithPruning(LogicalPlan.scala:31)\r\n\tat org.apache.spark.sql.catalyst.trees.TreeNode.transformDown(TreeNode.scala:488)\r\n\tat org.apache.spark.sql.execution.QueryExecution.eagerlyExecuteCommands(QueryExecution.scala:94)\r\n\tat org.apache.spark.sql.execution.QueryExecution.commandExecuted$lzycompute(QueryExecution.scala:81)\r\n\tat org.apache.spark.sql.execution.QueryExecution.commandExecuted(QueryExecution.scala:79)\r\n\tat org.apache.spark.sql.execution.QueryExecution.assertCommandExecuted(QueryExecution.scala:133)\r\n\tat org.apache.spark.sql.DataFrameWriter.runCommand(DataFrameWriter.scala:856)\r\n\tat org.apache.spark.sql.DataFrameWriter.saveToV1Source(DataFrameWriter.scala:387)\r\n\tat org.apache.spark.sql.DataFrameWriter.saveInternal(DataFrameWriter.scala:360)\r\n\tat org.apache.spark.sql.DataFrameWriter.save(DataFrameWriter.scala:247)\r\n\tat java.base/jdk.internal.reflect.NativeMethodAccessorImpl.invoke0(Native Method)\r\n\tat java.base/jdk.internal.reflect.NativeMethodAccessorImpl.invoke(NativeMethodAccessorImpl.java:75)\r\n\tat java.base/jdk.internal.reflect.DelegatingMethodAccessorImpl.invoke(DelegatingMethodAccessorImpl.java:52)\r\n\tat java.base/java.lang.reflect.Method.invoke(Method.java:578)\r\n\tat py4j.reflection.MethodInvoker.invoke(MethodInvoker.java:244)\r\n\tat py4j.reflection.ReflectionEngine.invoke(ReflectionEngine.java:374)\r\n\tat py4j.Gateway.invoke(Gateway.java:282)\r\n\tat py4j.commands.AbstractCommand.invokeMethod(AbstractCommand.java:132)\r\n\tat py4j.commands.CallCommand.execute(CallCommand.java:79)\r\n\tat py4j.ClientServerConnection.waitForCommands(ClientServerConnection.java:182)\r\n\tat py4j.ClientServerConnection.run(ClientServerConnection.java:106)\r\n\tat java.base/java.lang.Thread.run(Thread.java:1623)\r\nCaused by: java.sql.BatchUpdateException: Data truncation: Data too long for column 'CUST_COUNTRY' at row 1\r\n\tat java.base/jdk.internal.reflect.NativeConstructorAccessorImpl.newInstance0(Native Method)\r\n\tat java.base/jdk.internal.reflect.NativeConstructorAccessorImpl.newInstance(NativeConstructorAccessorImpl.java:75)\r\n\tat java.base/jdk.internal.reflect.DelegatingConstructorAccessorImpl.newInstance(DelegatingConstructorAccessorImpl.java:53)\r\n\tat java.base/java.lang.reflect.Constructor.newInstanceWithCaller(Constructor.java:500)\r\n\tat java.base/java.lang.reflect.Constructor.newInstance(Constructor.java:484)\r\n\tat com.mysql.cj.util.Util.handleNewInstance(Util.java:192)\r\n\tat com.mysql.cj.util.Util.getInstance(Util.java:167)\r\n\tat com.mysql.cj.util.Util.getInstance(Util.java:174)\r\n\tat com.mysql.cj.jdbc.exceptions.SQLError.createBatchUpdateException(SQLError.java:224)\r\n\tat com.mysql.cj.jdbc.ClientPreparedStatement.executeBatchSerially(ClientPreparedStatement.java:853)\r\n\tat com.mysql.cj.jdbc.ClientPreparedStatement.executeBatchInternal(ClientPreparedStatement.java:435)\r\n\tat com.mysql.cj.jdbc.StatementImpl.executeBatch(StatementImpl.java:794)\r\n\tat org.apache.spark.sql.execution.datasources.jdbc.JdbcUtils$.savePartition(JdbcUtils.scala:740)\r\n\tat org.apache.spark.sql.execution.datasources.jdbc.JdbcUtils$.$anonfun$saveTable$1(JdbcUtils.scala:891)\r\n\tat org.apache.spark.sql.execution.datasources.jdbc.JdbcUtils$.$anonfun$saveTable$1$adapted(JdbcUtils.scala:890)\r\n\tat org.apache.spark.rdd.RDD.$anonfun$foreachPartition$2(RDD.scala:1009)\r\n\tat org.apache.spark.rdd.RDD.$anonfun$foreachPartition$2$adapted(RDD.scala:1009)\r\n\tat org.apache.spark.SparkContext.$anonfun$runJob$5(SparkContext.scala:2303)\r\n\tat org.apache.spark.scheduler.ResultTask.runTask(ResultTask.scala:92)\r\n\tat org.apache.spark.TaskContext.runTaskWithListeners(TaskContext.scala:161)\r\n\tat org.apache.spark.scheduler.Task.run(Task.scala:139)\r\n\tat org.apache.spark.executor.Executor$TaskRunner.$anonfun$run$3(Executor.scala:554)\r\n\tat org.apache.spark.util.Utils$.tryWithSafeFinally(Utils.scala:1529)\r\n\tat org.apache.spark.executor.Executor$TaskRunner.run(Executor.scala:557)\r\n\tat java.base/java.util.concurrent.ThreadPoolExecutor.runWorker(ThreadPoolExecutor.java:1144)\r\n\tat java.base/java.util.concurrent.ThreadPoolExecutor$Worker.run(ThreadPoolExecutor.java:642)\r\n\t... 1 more\r\nCaused by: com.mysql.cj.jdbc.exceptions.MysqlDataTruncation: Data truncation: Data too long for column 'CUST_COUNTRY' at row 1\r\n\tat com.mysql.cj.jdbc.exceptions.SQLExceptionsMapping.translateException(SQLExceptionsMapping.java:104)\r\n\tat com.mysql.cj.jdbc.ClientPreparedStatement.executeInternal(ClientPreparedStatement.java:953)\r\n\tat com.mysql.cj.jdbc.ClientPreparedStatement.executeUpdateInternal(ClientPreparedStatement.java:1092)\r\n\tat com.mysql.cj.jdbc.ClientPreparedStatement.executeBatchSerially(ClientPreparedStatement.java:832)\r\n\t... 17 more\r\n",
     "output_type": "error",
     "traceback": [
      "\u001b[1;31m---------------------------------------------------------------------------\u001b[0m",
      "\u001b[1;31mPy4JJavaError\u001b[0m                             Traceback (most recent call last)",
      "\u001b[1;32mc:\\Users\\fube9\\Documents\\GitHub\\Data-Engineer-Capstone-Project-\\customer_table_etl.ipynb Cell 20\u001b[0m line \u001b[0;36m7\n\u001b[0;32m      <a href='vscode-notebook-cell:/c%3A/Users/fube9/Documents/GitHub/Data-Engineer-Capstone-Project-/customer_table_etl.ipynb#X22sZmlsZQ%3D%3D?line=0'>1</a>\u001b[0m df_customer\u001b[39m.\u001b[39;49mwrite\u001b[39m.\u001b[39;49mformat(\u001b[39m\"\u001b[39;49m\u001b[39mjdbc\u001b[39;49m\u001b[39m\"\u001b[39;49m) \\\n\u001b[0;32m      <a href='vscode-notebook-cell:/c%3A/Users/fube9/Documents/GitHub/Data-Engineer-Capstone-Project-/customer_table_etl.ipynb#X22sZmlsZQ%3D%3D?line=1'>2</a>\u001b[0m   \u001b[39m.\u001b[39;49mmode(\u001b[39m\"\u001b[39;49m\u001b[39mappend\u001b[39;49m\u001b[39m\"\u001b[39;49m) \\\n\u001b[0;32m      <a href='vscode-notebook-cell:/c%3A/Users/fube9/Documents/GitHub/Data-Engineer-Capstone-Project-/customer_table_etl.ipynb#X22sZmlsZQ%3D%3D?line=2'>3</a>\u001b[0m   \u001b[39m.\u001b[39;49moption(\u001b[39m\"\u001b[39;49m\u001b[39murl\u001b[39;49m\u001b[39m\"\u001b[39;49m, \u001b[39m\"\u001b[39;49m\u001b[39mjdbc:mysql://localhost:3306/creditcard_capstone\u001b[39;49m\u001b[39m\"\u001b[39;49m) \\\n\u001b[0;32m      <a href='vscode-notebook-cell:/c%3A/Users/fube9/Documents/GitHub/Data-Engineer-Capstone-Project-/customer_table_etl.ipynb#X22sZmlsZQ%3D%3D?line=3'>4</a>\u001b[0m   \u001b[39m.\u001b[39;49moption(\u001b[39m\"\u001b[39;49m\u001b[39mdbtable\u001b[39;49m\u001b[39m\"\u001b[39;49m, \u001b[39m\"\u001b[39;49m\u001b[39mcreditcard_capstone.cdw_sapp_customer\u001b[39;49m\u001b[39m\"\u001b[39;49m) \\\n\u001b[0;32m      <a href='vscode-notebook-cell:/c%3A/Users/fube9/Documents/GitHub/Data-Engineer-Capstone-Project-/customer_table_etl.ipynb#X22sZmlsZQ%3D%3D?line=4'>5</a>\u001b[0m   \u001b[39m.\u001b[39;49moption(\u001b[39m\"\u001b[39;49m\u001b[39muser\u001b[39;49m\u001b[39m\"\u001b[39;49m, mysql_username) \\\n\u001b[0;32m      <a href='vscode-notebook-cell:/c%3A/Users/fube9/Documents/GitHub/Data-Engineer-Capstone-Project-/customer_table_etl.ipynb#X22sZmlsZQ%3D%3D?line=5'>6</a>\u001b[0m   \u001b[39m.\u001b[39;49moption(\u001b[39m\"\u001b[39;49m\u001b[39mpassword\u001b[39;49m\u001b[39m\"\u001b[39;49m, mysql_password) \\\n\u001b[1;32m----> <a href='vscode-notebook-cell:/c%3A/Users/fube9/Documents/GitHub/Data-Engineer-Capstone-Project-/customer_table_etl.ipynb#X22sZmlsZQ%3D%3D?line=6'>7</a>\u001b[0m   \u001b[39m.\u001b[39;49msave()\n",
      "File \u001b[1;32mc:\\Users\\fube9\\AppData\\Local\\Programs\\Python\\Python310\\lib\\site-packages\\pyspark\\sql\\readwriter.py:1396\u001b[0m, in \u001b[0;36mDataFrameWriter.save\u001b[1;34m(self, path, format, mode, partitionBy, **options)\u001b[0m\n\u001b[0;32m   1394\u001b[0m     \u001b[39mself\u001b[39m\u001b[39m.\u001b[39mformat(\u001b[39mformat\u001b[39m)\n\u001b[0;32m   1395\u001b[0m \u001b[39mif\u001b[39;00m path \u001b[39mis\u001b[39;00m \u001b[39mNone\u001b[39;00m:\n\u001b[1;32m-> 1396\u001b[0m     \u001b[39mself\u001b[39;49m\u001b[39m.\u001b[39;49m_jwrite\u001b[39m.\u001b[39;49msave()\n\u001b[0;32m   1397\u001b[0m \u001b[39melse\u001b[39;00m:\n\u001b[0;32m   1398\u001b[0m     \u001b[39mself\u001b[39m\u001b[39m.\u001b[39m_jwrite\u001b[39m.\u001b[39msave(path)\n",
      "File \u001b[1;32mc:\\Users\\fube9\\AppData\\Local\\Programs\\Python\\Python310\\lib\\site-packages\\py4j\\java_gateway.py:1322\u001b[0m, in \u001b[0;36mJavaMember.__call__\u001b[1;34m(self, *args)\u001b[0m\n\u001b[0;32m   1316\u001b[0m command \u001b[39m=\u001b[39m proto\u001b[39m.\u001b[39mCALL_COMMAND_NAME \u001b[39m+\u001b[39m\\\n\u001b[0;32m   1317\u001b[0m     \u001b[39mself\u001b[39m\u001b[39m.\u001b[39mcommand_header \u001b[39m+\u001b[39m\\\n\u001b[0;32m   1318\u001b[0m     args_command \u001b[39m+\u001b[39m\\\n\u001b[0;32m   1319\u001b[0m     proto\u001b[39m.\u001b[39mEND_COMMAND_PART\n\u001b[0;32m   1321\u001b[0m answer \u001b[39m=\u001b[39m \u001b[39mself\u001b[39m\u001b[39m.\u001b[39mgateway_client\u001b[39m.\u001b[39msend_command(command)\n\u001b[1;32m-> 1322\u001b[0m return_value \u001b[39m=\u001b[39m get_return_value(\n\u001b[0;32m   1323\u001b[0m     answer, \u001b[39mself\u001b[39;49m\u001b[39m.\u001b[39;49mgateway_client, \u001b[39mself\u001b[39;49m\u001b[39m.\u001b[39;49mtarget_id, \u001b[39mself\u001b[39;49m\u001b[39m.\u001b[39;49mname)\n\u001b[0;32m   1325\u001b[0m \u001b[39mfor\u001b[39;00m temp_arg \u001b[39min\u001b[39;00m temp_args:\n\u001b[0;32m   1326\u001b[0m     \u001b[39mif\u001b[39;00m \u001b[39mhasattr\u001b[39m(temp_arg, \u001b[39m\"\u001b[39m\u001b[39m_detach\u001b[39m\u001b[39m\"\u001b[39m):\n",
      "File \u001b[1;32mc:\\Users\\fube9\\AppData\\Local\\Programs\\Python\\Python310\\lib\\site-packages\\pyspark\\errors\\exceptions\\captured.py:169\u001b[0m, in \u001b[0;36mcapture_sql_exception.<locals>.deco\u001b[1;34m(*a, **kw)\u001b[0m\n\u001b[0;32m    167\u001b[0m \u001b[39mdef\u001b[39;00m \u001b[39mdeco\u001b[39m(\u001b[39m*\u001b[39ma: Any, \u001b[39m*\u001b[39m\u001b[39m*\u001b[39mkw: Any) \u001b[39m-\u001b[39m\u001b[39m>\u001b[39m Any:\n\u001b[0;32m    168\u001b[0m     \u001b[39mtry\u001b[39;00m:\n\u001b[1;32m--> 169\u001b[0m         \u001b[39mreturn\u001b[39;00m f(\u001b[39m*\u001b[39ma, \u001b[39m*\u001b[39m\u001b[39m*\u001b[39mkw)\n\u001b[0;32m    170\u001b[0m     \u001b[39mexcept\u001b[39;00m Py4JJavaError \u001b[39mas\u001b[39;00m e:\n\u001b[0;32m    171\u001b[0m         converted \u001b[39m=\u001b[39m convert_exception(e\u001b[39m.\u001b[39mjava_exception)\n",
      "File \u001b[1;32mc:\\Users\\fube9\\AppData\\Local\\Programs\\Python\\Python310\\lib\\site-packages\\py4j\\protocol.py:326\u001b[0m, in \u001b[0;36mget_return_value\u001b[1;34m(answer, gateway_client, target_id, name)\u001b[0m\n\u001b[0;32m    324\u001b[0m value \u001b[39m=\u001b[39m OUTPUT_CONVERTER[\u001b[39mtype\u001b[39m](answer[\u001b[39m2\u001b[39m:], gateway_client)\n\u001b[0;32m    325\u001b[0m \u001b[39mif\u001b[39;00m answer[\u001b[39m1\u001b[39m] \u001b[39m==\u001b[39m REFERENCE_TYPE:\n\u001b[1;32m--> 326\u001b[0m     \u001b[39mraise\u001b[39;00m Py4JJavaError(\n\u001b[0;32m    327\u001b[0m         \u001b[39m\"\u001b[39m\u001b[39mAn error occurred while calling \u001b[39m\u001b[39m{0}\u001b[39;00m\u001b[39m{1}\u001b[39;00m\u001b[39m{2}\u001b[39;00m\u001b[39m.\u001b[39m\u001b[39m\\n\u001b[39;00m\u001b[39m\"\u001b[39m\u001b[39m.\u001b[39m\n\u001b[0;32m    328\u001b[0m         \u001b[39mformat\u001b[39m(target_id, \u001b[39m\"\u001b[39m\u001b[39m.\u001b[39m\u001b[39m\"\u001b[39m, name), value)\n\u001b[0;32m    329\u001b[0m \u001b[39melse\u001b[39;00m:\n\u001b[0;32m    330\u001b[0m     \u001b[39mraise\u001b[39;00m Py4JError(\n\u001b[0;32m    331\u001b[0m         \u001b[39m\"\u001b[39m\u001b[39mAn error occurred while calling \u001b[39m\u001b[39m{0}\u001b[39;00m\u001b[39m{1}\u001b[39;00m\u001b[39m{2}\u001b[39;00m\u001b[39m. Trace:\u001b[39m\u001b[39m\\n\u001b[39;00m\u001b[39m{3}\u001b[39;00m\u001b[39m\\n\u001b[39;00m\u001b[39m\"\u001b[39m\u001b[39m.\u001b[39m\n\u001b[0;32m    332\u001b[0m         \u001b[39mformat\u001b[39m(target_id, \u001b[39m\"\u001b[39m\u001b[39m.\u001b[39m\u001b[39m\"\u001b[39m, name, value))\n",
      "\u001b[1;31mPy4JJavaError\u001b[0m: An error occurred while calling o443.save.\n: org.apache.spark.SparkException: Job aborted due to stage failure: Task 0 in stage 98.0 failed 1 times, most recent failure: Lost task 0.0 in stage 98.0 (TID 66) (LAPTOP-IQMPCJRO executor driver): java.sql.BatchUpdateException: Data truncation: Data too long for column 'CUST_COUNTRY' at row 1\r\n\tat java.base/jdk.internal.reflect.NativeConstructorAccessorImpl.newInstance0(Native Method)\r\n\tat java.base/jdk.internal.reflect.NativeConstructorAccessorImpl.newInstance(NativeConstructorAccessorImpl.java:75)\r\n\tat java.base/jdk.internal.reflect.DelegatingConstructorAccessorImpl.newInstance(DelegatingConstructorAccessorImpl.java:53)\r\n\tat java.base/java.lang.reflect.Constructor.newInstanceWithCaller(Constructor.java:500)\r\n\tat java.base/java.lang.reflect.Constructor.newInstance(Constructor.java:484)\r\n\tat com.mysql.cj.util.Util.handleNewInstance(Util.java:192)\r\n\tat com.mysql.cj.util.Util.getInstance(Util.java:167)\r\n\tat com.mysql.cj.util.Util.getInstance(Util.java:174)\r\n\tat com.mysql.cj.jdbc.exceptions.SQLError.createBatchUpdateException(SQLError.java:224)\r\n\tat com.mysql.cj.jdbc.ClientPreparedStatement.executeBatchSerially(ClientPreparedStatement.java:853)\r\n\tat com.mysql.cj.jdbc.ClientPreparedStatement.executeBatchInternal(ClientPreparedStatement.java:435)\r\n\tat com.mysql.cj.jdbc.StatementImpl.executeBatch(StatementImpl.java:794)\r\n\tat org.apache.spark.sql.execution.datasources.jdbc.JdbcUtils$.savePartition(JdbcUtils.scala:740)\r\n\tat org.apache.spark.sql.execution.datasources.jdbc.JdbcUtils$.$anonfun$saveTable$1(JdbcUtils.scala:891)\r\n\tat org.apache.spark.sql.execution.datasources.jdbc.JdbcUtils$.$anonfun$saveTable$1$adapted(JdbcUtils.scala:890)\r\n\tat org.apache.spark.rdd.RDD.$anonfun$foreachPartition$2(RDD.scala:1009)\r\n\tat org.apache.spark.rdd.RDD.$anonfun$foreachPartition$2$adapted(RDD.scala:1009)\r\n\tat org.apache.spark.SparkContext.$anonfun$runJob$5(SparkContext.scala:2303)\r\n\tat org.apache.spark.scheduler.ResultTask.runTask(ResultTask.scala:92)\r\n\tat org.apache.spark.TaskContext.runTaskWithListeners(TaskContext.scala:161)\r\n\tat org.apache.spark.scheduler.Task.run(Task.scala:139)\r\n\tat org.apache.spark.executor.Executor$TaskRunner.$anonfun$run$3(Executor.scala:554)\r\n\tat org.apache.spark.util.Utils$.tryWithSafeFinally(Utils.scala:1529)\r\n\tat org.apache.spark.executor.Executor$TaskRunner.run(Executor.scala:557)\r\n\tat java.base/java.util.concurrent.ThreadPoolExecutor.runWorker(ThreadPoolExecutor.java:1144)\r\n\tat java.base/java.util.concurrent.ThreadPoolExecutor$Worker.run(ThreadPoolExecutor.java:642)\r\n\tat java.base/java.lang.Thread.run(Thread.java:1623)\r\nCaused by: com.mysql.cj.jdbc.exceptions.MysqlDataTruncation: Data truncation: Data too long for column 'CUST_COUNTRY' at row 1\r\n\tat com.mysql.cj.jdbc.exceptions.SQLExceptionsMapping.translateException(SQLExceptionsMapping.java:104)\r\n\tat com.mysql.cj.jdbc.ClientPreparedStatement.executeInternal(ClientPreparedStatement.java:953)\r\n\tat com.mysql.cj.jdbc.ClientPreparedStatement.executeUpdateInternal(ClientPreparedStatement.java:1092)\r\n\tat com.mysql.cj.jdbc.ClientPreparedStatement.executeBatchSerially(ClientPreparedStatement.java:832)\r\n\t... 17 more\r\n\nDriver stacktrace:\r\n\tat org.apache.spark.scheduler.DAGScheduler.failJobAndIndependentStages(DAGScheduler.scala:2785)\r\n\tat org.apache.spark.scheduler.DAGScheduler.$anonfun$abortStage$2(DAGScheduler.scala:2721)\r\n\tat org.apache.spark.scheduler.DAGScheduler.$anonfun$abortStage$2$adapted(DAGScheduler.scala:2720)\r\n\tat scala.collection.mutable.ResizableArray.foreach(ResizableArray.scala:62)\r\n\tat scala.collection.mutable.ResizableArray.foreach$(ResizableArray.scala:55)\r\n\tat scala.collection.mutable.ArrayBuffer.foreach(ArrayBuffer.scala:49)\r\n\tat org.apache.spark.scheduler.DAGScheduler.abortStage(DAGScheduler.scala:2720)\r\n\tat org.apache.spark.scheduler.DAGScheduler.$anonfun$handleTaskSetFailed$1(DAGScheduler.scala:1206)\r\n\tat org.apache.spark.scheduler.DAGScheduler.$anonfun$handleTaskSetFailed$1$adapted(DAGScheduler.scala:1206)\r\n\tat scala.Option.foreach(Option.scala:407)\r\n\tat org.apache.spark.scheduler.DAGScheduler.handleTaskSetFailed(DAGScheduler.scala:1206)\r\n\tat org.apache.spark.scheduler.DAGSchedulerEventProcessLoop.doOnReceive(DAGScheduler.scala:2984)\r\n\tat org.apache.spark.scheduler.DAGSchedulerEventProcessLoop.onReceive(DAGScheduler.scala:2923)\r\n\tat org.apache.spark.scheduler.DAGSchedulerEventProcessLoop.onReceive(DAGScheduler.scala:2912)\r\n\tat org.apache.spark.util.EventLoop$$anon$1.run(EventLoop.scala:49)\r\n\tat org.apache.spark.scheduler.DAGScheduler.runJob(DAGScheduler.scala:971)\r\n\tat org.apache.spark.SparkContext.runJob(SparkContext.scala:2263)\r\n\tat org.apache.spark.SparkContext.runJob(SparkContext.scala:2284)\r\n\tat org.apache.spark.SparkContext.runJob(SparkContext.scala:2303)\r\n\tat org.apache.spark.SparkContext.runJob(SparkContext.scala:2328)\r\n\tat org.apache.spark.rdd.RDD.$anonfun$foreachPartition$1(RDD.scala:1009)\r\n\tat org.apache.spark.rdd.RDDOperationScope$.withScope(RDDOperationScope.scala:151)\r\n\tat org.apache.spark.rdd.RDDOperationScope$.withScope(RDDOperationScope.scala:112)\r\n\tat org.apache.spark.rdd.RDD.withScope(RDD.scala:405)\r\n\tat org.apache.spark.rdd.RDD.foreachPartition(RDD.scala:1007)\r\n\tat org.apache.spark.sql.execution.datasources.jdbc.JdbcUtils$.saveTable(JdbcUtils.scala:890)\r\n\tat org.apache.spark.sql.execution.datasources.jdbc.JdbcRelationProvider.createRelation(JdbcRelationProvider.scala:70)\r\n\tat org.apache.spark.sql.execution.datasources.SaveIntoDataSourceCommand.run(SaveIntoDataSourceCommand.scala:47)\r\n\tat org.apache.spark.sql.execution.command.ExecutedCommandExec.sideEffectResult$lzycompute(commands.scala:75)\r\n\tat org.apache.spark.sql.execution.command.ExecutedCommandExec.sideEffectResult(commands.scala:73)\r\n\tat org.apache.spark.sql.execution.command.ExecutedCommandExec.executeCollect(commands.scala:84)\r\n\tat org.apache.spark.sql.execution.QueryExecution$$anonfun$eagerlyExecuteCommands$1.$anonfun$applyOrElse$1(QueryExecution.scala:98)\r\n\tat org.apache.spark.sql.execution.SQLExecution$.$anonfun$withNewExecutionId$6(SQLExecution.scala:118)\r\n\tat org.apache.spark.sql.execution.SQLExecution$.withSQLConfPropagated(SQLExecution.scala:195)\r\n\tat org.apache.spark.sql.execution.SQLExecution$.$anonfun$withNewExecutionId$1(SQLExecution.scala:103)\r\n\tat org.apache.spark.sql.SparkSession.withActive(SparkSession.scala:827)\r\n\tat org.apache.spark.sql.execution.SQLExecution$.withNewExecutionId(SQLExecution.scala:65)\r\n\tat org.apache.spark.sql.execution.QueryExecution$$anonfun$eagerlyExecuteCommands$1.applyOrElse(QueryExecution.scala:98)\r\n\tat org.apache.spark.sql.execution.QueryExecution$$anonfun$eagerlyExecuteCommands$1.applyOrElse(QueryExecution.scala:94)\r\n\tat org.apache.spark.sql.catalyst.trees.TreeNode.$anonfun$transformDownWithPruning$1(TreeNode.scala:512)\r\n\tat org.apache.spark.sql.catalyst.trees.CurrentOrigin$.withOrigin(TreeNode.scala:104)\r\n\tat org.apache.spark.sql.catalyst.trees.TreeNode.transformDownWithPruning(TreeNode.scala:512)\r\n\tat org.apache.spark.sql.catalyst.plans.logical.LogicalPlan.org$apache$spark$sql$catalyst$plans$logical$AnalysisHelper$$super$transformDownWithPruning(LogicalPlan.scala:31)\r\n\tat org.apache.spark.sql.catalyst.plans.logical.AnalysisHelper.transformDownWithPruning(AnalysisHelper.scala:267)\r\n\tat org.apache.spark.sql.catalyst.plans.logical.AnalysisHelper.transformDownWithPruning$(AnalysisHelper.scala:263)\r\n\tat org.apache.spark.sql.catalyst.plans.logical.LogicalPlan.transformDownWithPruning(LogicalPlan.scala:31)\r\n\tat org.apache.spark.sql.catalyst.plans.logical.LogicalPlan.transformDownWithPruning(LogicalPlan.scala:31)\r\n\tat org.apache.spark.sql.catalyst.trees.TreeNode.transformDown(TreeNode.scala:488)\r\n\tat org.apache.spark.sql.execution.QueryExecution.eagerlyExecuteCommands(QueryExecution.scala:94)\r\n\tat org.apache.spark.sql.execution.QueryExecution.commandExecuted$lzycompute(QueryExecution.scala:81)\r\n\tat org.apache.spark.sql.execution.QueryExecution.commandExecuted(QueryExecution.scala:79)\r\n\tat org.apache.spark.sql.execution.QueryExecution.assertCommandExecuted(QueryExecution.scala:133)\r\n\tat org.apache.spark.sql.DataFrameWriter.runCommand(DataFrameWriter.scala:856)\r\n\tat org.apache.spark.sql.DataFrameWriter.saveToV1Source(DataFrameWriter.scala:387)\r\n\tat org.apache.spark.sql.DataFrameWriter.saveInternal(DataFrameWriter.scala:360)\r\n\tat org.apache.spark.sql.DataFrameWriter.save(DataFrameWriter.scala:247)\r\n\tat java.base/jdk.internal.reflect.NativeMethodAccessorImpl.invoke0(Native Method)\r\n\tat java.base/jdk.internal.reflect.NativeMethodAccessorImpl.invoke(NativeMethodAccessorImpl.java:75)\r\n\tat java.base/jdk.internal.reflect.DelegatingMethodAccessorImpl.invoke(DelegatingMethodAccessorImpl.java:52)\r\n\tat java.base/java.lang.reflect.Method.invoke(Method.java:578)\r\n\tat py4j.reflection.MethodInvoker.invoke(MethodInvoker.java:244)\r\n\tat py4j.reflection.ReflectionEngine.invoke(ReflectionEngine.java:374)\r\n\tat py4j.Gateway.invoke(Gateway.java:282)\r\n\tat py4j.commands.AbstractCommand.invokeMethod(AbstractCommand.java:132)\r\n\tat py4j.commands.CallCommand.execute(CallCommand.java:79)\r\n\tat py4j.ClientServerConnection.waitForCommands(ClientServerConnection.java:182)\r\n\tat py4j.ClientServerConnection.run(ClientServerConnection.java:106)\r\n\tat java.base/java.lang.Thread.run(Thread.java:1623)\r\nCaused by: java.sql.BatchUpdateException: Data truncation: Data too long for column 'CUST_COUNTRY' at row 1\r\n\tat java.base/jdk.internal.reflect.NativeConstructorAccessorImpl.newInstance0(Native Method)\r\n\tat java.base/jdk.internal.reflect.NativeConstructorAccessorImpl.newInstance(NativeConstructorAccessorImpl.java:75)\r\n\tat java.base/jdk.internal.reflect.DelegatingConstructorAccessorImpl.newInstance(DelegatingConstructorAccessorImpl.java:53)\r\n\tat java.base/java.lang.reflect.Constructor.newInstanceWithCaller(Constructor.java:500)\r\n\tat java.base/java.lang.reflect.Constructor.newInstance(Constructor.java:484)\r\n\tat com.mysql.cj.util.Util.handleNewInstance(Util.java:192)\r\n\tat com.mysql.cj.util.Util.getInstance(Util.java:167)\r\n\tat com.mysql.cj.util.Util.getInstance(Util.java:174)\r\n\tat com.mysql.cj.jdbc.exceptions.SQLError.createBatchUpdateException(SQLError.java:224)\r\n\tat com.mysql.cj.jdbc.ClientPreparedStatement.executeBatchSerially(ClientPreparedStatement.java:853)\r\n\tat com.mysql.cj.jdbc.ClientPreparedStatement.executeBatchInternal(ClientPreparedStatement.java:435)\r\n\tat com.mysql.cj.jdbc.StatementImpl.executeBatch(StatementImpl.java:794)\r\n\tat org.apache.spark.sql.execution.datasources.jdbc.JdbcUtils$.savePartition(JdbcUtils.scala:740)\r\n\tat org.apache.spark.sql.execution.datasources.jdbc.JdbcUtils$.$anonfun$saveTable$1(JdbcUtils.scala:891)\r\n\tat org.apache.spark.sql.execution.datasources.jdbc.JdbcUtils$.$anonfun$saveTable$1$adapted(JdbcUtils.scala:890)\r\n\tat org.apache.spark.rdd.RDD.$anonfun$foreachPartition$2(RDD.scala:1009)\r\n\tat org.apache.spark.rdd.RDD.$anonfun$foreachPartition$2$adapted(RDD.scala:1009)\r\n\tat org.apache.spark.SparkContext.$anonfun$runJob$5(SparkContext.scala:2303)\r\n\tat org.apache.spark.scheduler.ResultTask.runTask(ResultTask.scala:92)\r\n\tat org.apache.spark.TaskContext.runTaskWithListeners(TaskContext.scala:161)\r\n\tat org.apache.spark.scheduler.Task.run(Task.scala:139)\r\n\tat org.apache.spark.executor.Executor$TaskRunner.$anonfun$run$3(Executor.scala:554)\r\n\tat org.apache.spark.util.Utils$.tryWithSafeFinally(Utils.scala:1529)\r\n\tat org.apache.spark.executor.Executor$TaskRunner.run(Executor.scala:557)\r\n\tat java.base/java.util.concurrent.ThreadPoolExecutor.runWorker(ThreadPoolExecutor.java:1144)\r\n\tat java.base/java.util.concurrent.ThreadPoolExecutor$Worker.run(ThreadPoolExecutor.java:642)\r\n\t... 1 more\r\nCaused by: com.mysql.cj.jdbc.exceptions.MysqlDataTruncation: Data truncation: Data too long for column 'CUST_COUNTRY' at row 1\r\n\tat com.mysql.cj.jdbc.exceptions.SQLExceptionsMapping.translateException(SQLExceptionsMapping.java:104)\r\n\tat com.mysql.cj.jdbc.ClientPreparedStatement.executeInternal(ClientPreparedStatement.java:953)\r\n\tat com.mysql.cj.jdbc.ClientPreparedStatement.executeUpdateInternal(ClientPreparedStatement.java:1092)\r\n\tat com.mysql.cj.jdbc.ClientPreparedStatement.executeBatchSerially(ClientPreparedStatement.java:832)\r\n\t... 17 more\r\n"
     ]
    }
   ],
   "source": [
    "df_customer.write.format(\"jdbc\") \\\n",
    "  .mode(\"append\") \\\n",
    "  .option(\"url\", \"jdbc:mysql://localhost:3306/creditcard_capstone\") \\\n",
    "  .option(\"dbtable\", \"creditcard_capstone.cdw_sapp_customer\") \\\n",
    "  .option(\"user\", mysql_username) \\\n",
    "  .option(\"password\", mysql_password) \\\n",
    "  .save()"
   ]
  }
 ],
 "metadata": {
  "kernelspec": {
   "display_name": "Python 3",
   "language": "python",
   "name": "python3"
  },
  "language_info": {
   "codemirror_mode": {
    "name": "ipython",
    "version": 3
   },
   "file_extension": ".py",
   "mimetype": "text/x-python",
   "name": "python",
   "nbconvert_exporter": "python",
   "pygments_lexer": "ipython3",
   "version": "3.10.11"
  }
 },
 "nbformat": 4,
 "nbformat_minor": 2
}
