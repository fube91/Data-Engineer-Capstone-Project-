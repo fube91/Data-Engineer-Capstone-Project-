{
 "cells": [
  {
   "cell_type": "code",
   "execution_count": 1,
   "metadata": {},
   "outputs": [],
   "source": [
    "import requests\n",
    "import pyspark\n",
    "import pandas as pd\n",
    "import mysql.connector as mydbconnection\n",
    "import seaborn as sns\n",
    "import matplotlib.pyplot as plt\n",
    "from pyspark.sql import SparkSession\n",
    "from sqlalchemy import create_engine\n",
    "from mysql.connector import Error\n",
    "from credentials import mysql_username, mysql_password"
   ]
  },
  {
   "cell_type": "code",
   "execution_count": 3,
   "metadata": {},
   "outputs": [
    {
     "name": "stdout",
     "output_type": "stream",
     "text": [
      "Status code: 200\n",
      "Dataframe successfully created\n",
      "+--------------+------------------+--------------+----------+------------+------+------+-------+-------------+-------------+\n",
      "|Application_ID|Application_Status|Credit_History|Dependents|   Education|Gender|Income|Married|Property_Area|Self_Employed|\n",
      "+--------------+------------------+--------------+----------+------------+------+------+-------+-------------+-------------+\n",
      "|      LP001002|                 Y|             1|         0|    Graduate|  Male|medium|     No|        Urban|           No|\n",
      "|      LP001003|                 N|             1|         1|    Graduate|  Male|medium|    Yes|        Rural|           No|\n",
      "|      LP001005|                 Y|             1|         0|    Graduate|  Male|   low|    Yes|        Urban|          Yes|\n",
      "|      LP001006|                 Y|             1|         0|Not Graduate|  Male|   low|    Yes|        Urban|           No|\n",
      "|      LP001008|                 Y|             1|         0|    Graduate|  Male|medium|     No|        Urban|           No|\n",
      "|      LP001011|                 Y|             1|         2|    Graduate|  Male|medium|    Yes|        Urban|          Yes|\n",
      "|      LP001013|                 Y|             1|         0|Not Graduate|  Male|   low|    Yes|        Urban|           No|\n",
      "|      LP001014|                 N|             0|        3+|    Graduate|  Male|   low|    Yes|    Semiurban|           No|\n",
      "|      LP001018|                 Y|             1|         2|    Graduate|  Male|medium|    Yes|        Urban|           No|\n",
      "|      LP001020|                 N|             1|         1|    Graduate|  Male|  high|    Yes|    Semiurban|           No|\n",
      "|      LP001024|                 Y|             1|         2|    Graduate|  Male|   low|    Yes|        Urban|           No|\n",
      "|      LP001028|                 Y|             1|         2|    Graduate|  Male|   low|    Yes|        Urban|           No|\n",
      "|      LP001029|                 N|             1|         0|    Graduate|  Male|   low|     No|        Rural|           No|\n",
      "|      LP001030|                 Y|             1|         2|    Graduate|  Male|   low|    Yes|        Urban|           No|\n",
      "|      LP001032|                 Y|             1|         0|    Graduate|  Male|medium|     No|        Urban|           No|\n",
      "|      LP001036|                 N|             0|         0|    Graduate|Female|   low|     No|        Urban|           No|\n",
      "|      LP001038|                 N|             1|         0|Not Graduate|  Male|medium|    Yes|        Rural|           No|\n",
      "|      LP001043|                 N|             0|         0|Not Graduate|  Male|medium|    Yes|        Urban|           No|\n",
      "|      LP001046|                 Y|             1|         1|    Graduate|  Male|medium|    Yes|        Urban|           No|\n",
      "|      LP001047|                 N|             0|         0|Not Graduate|  Male|   low|    Yes|    Semiurban|           No|\n",
      "+--------------+------------------+--------------+----------+------------+------+------+-------+-------------+-------------+\n",
      "only showing top 20 rows\n",
      "\n"
     ]
    }
   ],
   "source": [
    "url = 'https://raw.githubusercontent.com/platformps/LoanDataset/main/loan_data.json'\n",
    "response = requests.get(url)\n",
    "print(f\"Status code: {response.status_code}\")\n",
    "\n",
    "# Check if the request was successful\n",
    "if response.status_code == 200:\n",
    "    spark = SparkSession.builder.appName(\"API-loan-application\").getOrCreate()\n",
    "\n",
    "    # Convert the API response to a DataFrame\n",
    "    df_loan_data = spark.read.json(spark.sparkContext.parallelize([response.json()]))\n",
    "    print(\"Dataframe successfully created\")\n",
    "    df_loan_data.show()\n",
    "else:\n",
    "    print(\"Failed to fetch data from the API.\")\n"
   ]
  },
  {
   "cell_type": "code",
   "execution_count": 4,
   "metadata": {},
   "outputs": [
    {
     "data": {
      "text/plain": [
       "'url = \\'https://raw.githubusercontent.com/platformps/LoanDataset/main/loan_data.json\\'\\nresponse = requests.get(url)\\n\\n# Check if the request was successful\\nif response.status_code == 200:\\n    data = response.json()\\n    df_loan_app = pd.DataFrame(data)\\n\\n    # Create a connection to the creditcard_capstone database\\n    database_username = mysql_username\\n    database_password = mysql_password\\n    database_ip = \\'localhost\\'\\n    database_name = \\'creditcard_capstone\\'\\n    database_connection = create_engine(f\\'mysql+pymysql://{database_username}:{database_password}@{database_ip}/{database_name}\\')\\n\\n    # Load the data into the cdw_sapp_loan_application table\\n    df_loan_app.to_sql(\\'cdw_sapp_loan_application\\', con=database_connection, if_exists=\\'replace\\', index=False)\\n\\n    print(\"Data successfully loaded into the database.\")\\nelse:\\n    print(\"Failed to fetch data from the API.\")'"
      ]
     },
     "execution_count": 4,
     "metadata": {},
     "output_type": "execute_result"
    }
   ],
   "source": [
    "# Fetch data from the API\n",
    "'''url = 'https://raw.githubusercontent.com/platformps/LoanDataset/main/loan_data.json'\n",
    "response = requests.get(url)\n",
    "\n",
    "# Check if the request was successful\n",
    "if response.status_code == 200:\n",
    "    data = response.json()\n",
    "    df_loan_app = pd.DataFrame(data)\n",
    "\n",
    "    # Create a connection to the creditcard_capstone database\n",
    "    database_username = mysql_username\n",
    "    database_password = mysql_password\n",
    "    database_ip = 'localhost'\n",
    "    database_name = 'creditcard_capstone'\n",
    "    database_connection = create_engine(f'mysql+pymysql://{database_username}:{database_password}@{database_ip}/{database_name}')\n",
    "\n",
    "    # Load the data into the cdw_sapp_loan_application table\n",
    "    df_loan_app.to_sql('cdw_sapp_loan_application', con=database_connection, if_exists='replace', index=False)\n",
    "\n",
    "    print(\"Data successfully loaded into the database.\")\n",
    "else:\n",
    "    print(\"Failed to fetch data from the API.\")'''\n"
   ]
  },
  {
   "cell_type": "code",
   "execution_count": 5,
   "metadata": {},
   "outputs": [
    {
     "name": "stdout",
     "output_type": "stream",
     "text": [
      "root\n",
      " |-- Application_ID: string (nullable = true)\n",
      " |-- Application_Status: string (nullable = true)\n",
      " |-- Credit_History: long (nullable = true)\n",
      " |-- Dependents: string (nullable = true)\n",
      " |-- Education: string (nullable = true)\n",
      " |-- Gender: string (nullable = true)\n",
      " |-- Income: string (nullable = true)\n",
      " |-- Married: string (nullable = true)\n",
      " |-- Property_Area: string (nullable = true)\n",
      " |-- Self_Employed: string (nullable = true)\n",
      "\n",
      "+-------+--------------+------------------+------------------+------------------+------------+------+------+-------+-------------+-------------+\n",
      "|summary|Application_ID|Application_Status|    Credit_History|        Dependents|   Education|Gender|Income|Married|Property_Area|Self_Employed|\n",
      "+-------+--------------+------------------+------------------+------------------+------------+------+------+-------+-------------+-------------+\n",
      "|  count|           511|               511|               511|               511|         511|   511|   511|    511|          511|          511|\n",
      "|   mean|          null|              null|0.8434442270058709|0.5588865096359743|        null|  null|  null|   null|         null|         null|\n",
      "| stddev|          null|              null|0.3637375108305913|0.7904073771519635|        null|  null|  null|   null|         null|         null|\n",
      "|    min|      LP001002|                 N|                 0|                 0|    Graduate|Female|  high|     No|        Rural|           No|\n",
      "|    max|      LP002990|                 Y|                 1|                3+|Not Graduate|  Male|medium|    Yes|        Urban|          Yes|\n",
      "+-------+--------------+------------------+------------------+------------------+------------+------+------+-------+-------------+-------------+\n",
      "\n"
     ]
    },
    {
     "data": {
      "text/plain": [
       "511"
      ]
     },
     "execution_count": 5,
     "metadata": {},
     "output_type": "execute_result"
    }
   ],
   "source": [
    "df_loan_data.columns\n",
    "df_loan_data.printSchema()\n",
    "df_loan_data.describe().show()\n",
    "df_loan_data.count()"
   ]
  },
  {
   "cell_type": "code",
   "execution_count": 6,
   "metadata": {},
   "outputs": [],
   "source": [
    "# convert the PySpark DataFrame to a pandas DataFrame\n",
    "df_loan_data = df_loan_data.toPandas()"
   ]
  },
  {
   "cell_type": "code",
   "execution_count": 7,
   "metadata": {},
   "outputs": [],
   "source": [
    "loan_app_table = ( \n",
    "    \"CREATE TABLE IF NOT EXISTS `cdw_sapp_loan_application` (\"\n",
    "    \"Application_ID VARCHAR(10) PRIMARY KEY,\"               \n",
    "    \"Application_Status VARCHAR(2),\"               \n",
    "    \"Credit_History VARCHAR(2),\"                   \n",
    "    \"Dependents VARCHAR(5),\"                               \n",
    "    \"Education VARCHAR(15),\"                        \n",
    "    \"Gender VARCHAR(10),\"                           \n",
    "    \"Income VARCHAR(10),\"                         \n",
    "    \"Married VARCHAR(10),\"                          \n",
    "    \"Property_Area VARCHAR(20),\"                   \n",
    "    \"Self_Employed VARCHAR(5)\"                     \n",
    "    \")\"\n",
    ")\n"
   ]
  },
  {
   "cell_type": "code",
   "execution_count": 8,
   "metadata": {},
   "outputs": [
    {
     "name": "stdout",
     "output_type": "stream",
     "text": [
      "Creating cdw_sapp_loan_application table....\n",
      "cdw_sapp_loan_application table is created....\n",
      "All 511 Branch Records inserted\n",
      "Branch data fully loaded\n",
      "MySQL connection is closed.\n"
     ]
    },
    {
     "name": "stderr",
     "output_type": "stream",
     "text": [
      "----------------------------------------\n",
      "Exception occurred during processing of request from ('127.0.0.1', 58443)\n",
      "Traceback (most recent call last):\n",
      "  File \"c:\\Users\\fube9\\AppData\\Local\\Programs\\Python\\Python310\\lib\\socketserver.py\", line 316, in _handle_request_noblock\n",
      "    self.process_request(request, client_address)\n",
      "  File \"c:\\Users\\fube9\\AppData\\Local\\Programs\\Python\\Python310\\lib\\socketserver.py\", line 347, in process_request\n",
      "    self.finish_request(request, client_address)\n",
      "  File \"c:\\Users\\fube9\\AppData\\Local\\Programs\\Python\\Python310\\lib\\socketserver.py\", line 360, in finish_request\n",
      "    self.RequestHandlerClass(request, client_address, self)\n",
      "  File \"c:\\Users\\fube9\\AppData\\Local\\Programs\\Python\\Python310\\lib\\socketserver.py\", line 747, in __init__\n",
      "    self.handle()\n",
      "  File \"c:\\Users\\fube9\\AppData\\Local\\Programs\\Python\\Python310\\lib\\site-packages\\pyspark\\accumulators.py\", line 281, in handle\n",
      "    poll(accum_updates)\n",
      "  File \"c:\\Users\\fube9\\AppData\\Local\\Programs\\Python\\Python310\\lib\\site-packages\\pyspark\\accumulators.py\", line 253, in poll\n",
      "    if func():\n",
      "  File \"c:\\Users\\fube9\\AppData\\Local\\Programs\\Python\\Python310\\lib\\site-packages\\pyspark\\accumulators.py\", line 257, in accum_updates\n",
      "    num_updates = read_int(self.rfile)\n",
      "  File \"c:\\Users\\fube9\\AppData\\Local\\Programs\\Python\\Python310\\lib\\site-packages\\pyspark\\serializers.py\", line 594, in read_int\n",
      "    length = stream.read(4)\n",
      "  File \"c:\\Users\\fube9\\AppData\\Local\\Programs\\Python\\Python310\\lib\\socket.py\", line 705, in readinto\n",
      "    return self._sock.recv_into(b)\n",
      "ConnectionResetError: [WinError 10054] An existing connection was forcibly closed by the remote host\n",
      "----------------------------------------\n"
     ]
    }
   ],
   "source": [
    "try:\n",
    "    conn = mydbconnection.connect(database='creditcard_capstone', user=mysql_username, password=mysql_password)\n",
    "    cursor = conn.cursor()\n",
    "\n",
    "    # Create the table\n",
    "    print('Creating cdw_sapp_loan_application table....')\n",
    "    cursor.execute(loan_app_table)\n",
    "    print(\"cdw_sapp_loan_application table is created....\")\n",
    "\n",
    "    # Prepare the data for batch insertion\n",
    "    data_to_insert = [tuple(row) for _, row in df_loan_data.iterrows()]\n",
    "    sql = \"INSERT INTO creditcard_capstone.cdw_sapp_loan_application VALUES (%s,%s,%s,%s,%s,%s,%s,%s,%s,%s)\"\n",
    "\n",
    "    # Batch insert the data\n",
    "    cursor.executemany(sql, data_to_insert)\n",
    "    print(f\"All {len(data_to_insert)} Branch Records inserted\")\n",
    "\n",
    "    # Commit the transaction\n",
    "    conn.commit()\n",
    "    print(\"Branch data fully loaded\")\n",
    "\n",
    "except Error as e:\n",
    "    print(\"Error while connecting to MySQL\", e)\n",
    "\n",
    "finally:\n",
    "    # Ensure the connection is closed\n",
    "    if conn and conn.is_connected():\n",
    "        cursor.close()\n",
    "        conn.close()\n",
    "        print(\"MySQL connection is closed.\")"
   ]
  }
 ],
 "metadata": {
  "kernelspec": {
   "display_name": "Python 3",
   "language": "python",
   "name": "python3"
  },
  "language_info": {
   "codemirror_mode": {
    "name": "ipython",
    "version": 3
   },
   "file_extension": ".py",
   "mimetype": "text/x-python",
   "name": "python",
   "nbconvert_exporter": "python",
   "pygments_lexer": "ipython3",
   "version": "3.10.11"
  }
 },
 "nbformat": 4,
 "nbformat_minor": 2
}
