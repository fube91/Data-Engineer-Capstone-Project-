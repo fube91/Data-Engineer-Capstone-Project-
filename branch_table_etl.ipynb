{
 "cells": [
  {
   "cell_type": "code",
   "execution_count": 15,
   "metadata": {},
   "outputs": [],
   "source": [
    "import pyspark\n",
    "import mysql.connector as mydbconnection\n",
    "from mysql.connector import Error\n",
    "import pyspark.sql.functions as F\n",
    "from pyspark.sql import SparkSession\n",
    "from credentials import mysql_username, mysql_password\n",
    "\n",
    "# create the SparkSession\n",
    "spark = SparkSession.builder.appName('branch-pyspark').getOrCreate()"
   ]
  },
  {
   "cell_type": "code",
   "execution_count": 16,
   "metadata": {},
   "outputs": [
    {
     "name": "stdout",
     "output_type": "stream",
     "text": [
      "+-----------------+-----------+------------+------------+------------+-------------------+----------+--------------------+\n",
      "|      BRANCH_CITY|BRANCH_CODE| BRANCH_NAME|BRANCH_PHONE|BRANCH_STATE|      BRANCH_STREET|BRANCH_ZIP|        LAST_UPDATED|\n",
      "+-----------------+-----------+------------+------------+------------+-------------------+----------+--------------------+\n",
      "|        Lakeville|          1|Example Bank|  1234565276|          MN|       Bridle Court|     55044|2018-04-18T16:51:...|\n",
      "|          Huntley|          2|Example Bank|  1234618993|          IL|  Washington Street|     60142|2018-04-18T16:51:...|\n",
      "|SouthRichmondHill|          3|Example Bank|  1234985926|          NY|      Warren Street|     11419|2018-04-18T16:51:...|\n",
      "|       Middleburg|          4|Example Bank|  1234663064|          FL|   Cleveland Street|     32068|2018-04-18T16:51:...|\n",
      "|    KingOfPrussia|          5|Example Bank|  1234849701|          PA|        14th Street|     19406|2018-04-18T16:51:...|\n",
      "|         Paterson|          7|Example Bank|  1234144890|          NJ|   Jefferson Street|      7501|2018-04-18T16:51:...|\n",
      "|        Pittsford|          8|Example Bank|  1234678272|          NY|           B Street|     14534|2018-04-18T16:51:...|\n",
      "|     Wethersfield|          9|Example Bank|  1234675219|          CT|    Jefferson Court|      6109|2018-04-18T16:51:...|\n",
      "|     NorthOlmsted|         10|Example Bank|  1234145047|          OH|     Cambridge Road|     44070|2018-04-18T16:51:...|\n",
      "|     Hillsborough|         11|Example Bank|  1234366354|          NJ|    3rd Street West|      8844|2018-04-18T16:51:...|\n",
      "|   MadisonHeights|         12|Example Bank|  1234867175|          MI|          Mill Road|     48071|2018-04-18T16:51:...|\n",
      "|           Oviedo|         14|Example Bank|  1234938460|          FL|  Washington Street|     32765|2018-04-18T16:51:...|\n",
      "|    Mechanicsburg|         15|Example Bank|  1234462043|          PA|    Chestnut Street|     17050|2018-04-18T16:51:...|\n",
      "|        Plainview|         16|Example Bank|  1234857525|          NY|       Monroe Drive|     11803|2018-04-18T16:51:...|\n",
      "|          Paducah|         17|Example Bank|  1234546360|          KY|    Railroad Street|     42001|2018-04-18T16:51:...|\n",
      "|     Harleysville|         18|Example Bank|  1234824455|          PA|Church Street South|     19438|2018-04-18T16:51:...|\n",
      "|     SilverSpring|         19|Example Bank|  1234484380|          MD|        King Street|     20901|2018-04-18T16:51:...|\n",
      "|       Burnsville|         20|Example Bank|  1234840138|          MN|   Canterbury Drive|     55337|2018-04-18T16:51:...|\n",
      "|           Tacoma|         21|Example Bank|  1234362433|          WA|         2nd Avenue|     98444|2018-04-18T16:51:...|\n",
      "|         Carlisle|         22|Example Bank|  1234922492|          PA| Front Street South|     17013|2018-04-18T16:51:...|\n",
      "+-----------------+-----------+------------+------------+------------+-------------------+----------+--------------------+\n",
      "only showing top 20 rows\n",
      "\n"
     ]
    }
   ],
   "source": [
    "# Load / Read data from json file:\n",
    "df_branch = spark.read.json(\"json_source_data/cdw_sapp_branch.json\")\n",
    "df_branch.show()"
   ]
  },
  {
   "cell_type": "code",
   "execution_count": 17,
   "metadata": {},
   "outputs": [
    {
     "name": "stdout",
     "output_type": "stream",
     "text": [
      "root\n",
      " |-- BRANCH_CITY: string (nullable = true)\n",
      " |-- BRANCH_CODE: long (nullable = true)\n",
      " |-- BRANCH_NAME: string (nullable = true)\n",
      " |-- BRANCH_PHONE: string (nullable = true)\n",
      " |-- BRANCH_STATE: string (nullable = true)\n",
      " |-- BRANCH_STREET: string (nullable = true)\n",
      " |-- BRANCH_ZIP: long (nullable = true)\n",
      " |-- LAST_UPDATED: string (nullable = true)\n",
      "\n",
      "+-------+-----------+-----------------+------------+--------------------+------------+-------------+------------------+--------------------+\n",
      "|summary|BRANCH_CITY|      BRANCH_CODE| BRANCH_NAME|        BRANCH_PHONE|BRANCH_STATE|BRANCH_STREET|        BRANCH_ZIP|        LAST_UPDATED|\n",
      "+-------+-----------+-----------------+------------+--------------------+------------+-------------+------------------+--------------------+\n",
      "|  count|        115|              115|         115|                 115|         115|          115|               115|                 115|\n",
      "|   mean|       null|76.67826086956522|        null|1.2345499259478261E9|        null|         null|  38975.2347826087|                null|\n",
      "| stddev|       null|52.94113709535237|        null|  258751.74757815443|        null|         null|23938.156819564818|                null|\n",
      "|    min|    Acworth|                1|Example Bank|          1234105725|          AL|  11th Street|              2155|2018-04-18T16:51:...|\n",
      "|    max|   YubaCity|              197|Example Bank|          1234985926|          WI|  York Street|             98908|2018-04-18T16:51:...|\n",
      "+-------+-----------+-----------------+------------+--------------------+------------+-------------+------------------+--------------------+\n",
      "\n",
      "+-----------------+-----------+------------+------------+------------+-------------------+----------+--------------------+\n",
      "|      BRANCH_CITY|BRANCH_CODE| BRANCH_NAME|BRANCH_PHONE|BRANCH_STATE|      BRANCH_STREET|BRANCH_ZIP|        LAST_UPDATED|\n",
      "+-----------------+-----------+------------+------------+------------+-------------------+----------+--------------------+\n",
      "|        Lakeville|          1|Example Bank|  1234565276|          MN|       Bridle Court|     55044|2018-04-18T16:51:...|\n",
      "|          Huntley|          2|Example Bank|  1234618993|          IL|  Washington Street|     60142|2018-04-18T16:51:...|\n",
      "|SouthRichmondHill|          3|Example Bank|  1234985926|          NY|      Warren Street|     11419|2018-04-18T16:51:...|\n",
      "|       Middleburg|          4|Example Bank|  1234663064|          FL|   Cleveland Street|     32068|2018-04-18T16:51:...|\n",
      "|    KingOfPrussia|          5|Example Bank|  1234849701|          PA|        14th Street|     19406|2018-04-18T16:51:...|\n",
      "|         Paterson|          7|Example Bank|  1234144890|          NJ|   Jefferson Street|      7501|2018-04-18T16:51:...|\n",
      "|        Pittsford|          8|Example Bank|  1234678272|          NY|           B Street|     14534|2018-04-18T16:51:...|\n",
      "|     Wethersfield|          9|Example Bank|  1234675219|          CT|    Jefferson Court|      6109|2018-04-18T16:51:...|\n",
      "|     NorthOlmsted|         10|Example Bank|  1234145047|          OH|     Cambridge Road|     44070|2018-04-18T16:51:...|\n",
      "|     Hillsborough|         11|Example Bank|  1234366354|          NJ|    3rd Street West|      8844|2018-04-18T16:51:...|\n",
      "|   MadisonHeights|         12|Example Bank|  1234867175|          MI|          Mill Road|     48071|2018-04-18T16:51:...|\n",
      "|           Oviedo|         14|Example Bank|  1234938460|          FL|  Washington Street|     32765|2018-04-18T16:51:...|\n",
      "|    Mechanicsburg|         15|Example Bank|  1234462043|          PA|    Chestnut Street|     17050|2018-04-18T16:51:...|\n",
      "|        Plainview|         16|Example Bank|  1234857525|          NY|       Monroe Drive|     11803|2018-04-18T16:51:...|\n",
      "|          Paducah|         17|Example Bank|  1234546360|          KY|    Railroad Street|     42001|2018-04-18T16:51:...|\n",
      "|     Harleysville|         18|Example Bank|  1234824455|          PA|Church Street South|     19438|2018-04-18T16:51:...|\n",
      "|     SilverSpring|         19|Example Bank|  1234484380|          MD|        King Street|     20901|2018-04-18T16:51:...|\n",
      "|       Burnsville|         20|Example Bank|  1234840138|          MN|   Canterbury Drive|     55337|2018-04-18T16:51:...|\n",
      "|           Tacoma|         21|Example Bank|  1234362433|          WA|         2nd Avenue|     98444|2018-04-18T16:51:...|\n",
      "|         Carlisle|         22|Example Bank|  1234922492|          PA| Front Street South|     17013|2018-04-18T16:51:...|\n",
      "+-----------------+-----------+------------+------------+------------+-------------------+----------+--------------------+\n",
      "only showing top 20 rows\n",
      "\n"
     ]
    }
   ],
   "source": [
    "df_branch.columns\n",
    "df_branch.printSchema()\n",
    "df_branch.describe().show()\n",
    "df_branch.show()"
   ]
  },
  {
   "cell_type": "code",
   "execution_count": 18,
   "metadata": {},
   "outputs": [
    {
     "name": "stdout",
     "output_type": "stream",
     "text": [
      "+----------------------------+\n",
      "|count(DISTINCT BRANCH_PHONE)|\n",
      "+----------------------------+\n",
      "|                         115|\n",
      "+----------------------------+\n",
      "\n"
     ]
    }
   ],
   "source": [
    "df_branch.select(F.countDistinct(\"BRANCH_PHONE\")).show()"
   ]
  },
  {
   "cell_type": "code",
   "execution_count": 19,
   "metadata": {},
   "outputs": [
    {
     "name": "stdout",
     "output_type": "stream",
     "text": [
      "+------------+------------+----------+\n",
      "| BRANCH_CITY|BRANCH_STATE|BRANCH_ZIP|\n",
      "+------------+------------+----------+\n",
      "|    Paterson|          NJ|      7501|\n",
      "|Wethersfield|          CT|      6109|\n",
      "|Hillsborough|          NJ|      8844|\n",
      "|     Medford|          MA|      2155|\n",
      "|    Rockaway|          NJ|      7866|\n",
      "|  LongBranch|          NJ|      7740|\n",
      "|   Irvington|          NJ|      7111|\n",
      "|    NewHaven|          CT|      6511|\n",
      "|      Quincy|          MA|      2169|\n",
      "+------------+------------+----------+\n",
      "\n"
     ]
    }
   ],
   "source": [
    "# find zip codes with less than 5 values\n",
    "df_branch.filter(F.length(df_branch[\"BRANCH_ZIP\"]) < 5)\\\n",
    "         .select('BRANCH_CITY', 'BRANCH_STATE', 'BRANCH_ZIP')\\\n",
    "         .show()"
   ]
  },
  {
   "cell_type": "code",
   "execution_count": 20,
   "metadata": {},
   "outputs": [],
   "source": [
    "# add a 0 infront of zip codes with 4 values\n",
    "df_branch = df_branch.withColumn('BRANCH_ZIP',\\\n",
    "                    F.when((F.length(df_branch['BRANCH_ZIP']) == 4) &\n",
    "                        df_branch['BRANCH_STATE'].isin([\"NJ\", \"CT\", \"MA\"]),\n",
    "                    F.format_string(\"0%s\",df_branch['BRANCH_ZIP']))\\\n",
    "                    .otherwise(df_branch[\"BRANCH_ZIP\"]))"
   ]
  },
  {
   "cell_type": "code",
   "execution_count": 21,
   "metadata": {},
   "outputs": [
    {
     "name": "stdout",
     "output_type": "stream",
     "text": [
      "+----------+\n",
      "|BRANCH_ZIP|\n",
      "+----------+\n",
      "+----------+\n",
      "\n"
     ]
    }
   ],
   "source": [
    "# verify there are no more zip codes with less than 5 values\n",
    "df_branch.select('BRANCH_ZIP')\\\n",
    "    .where(F.length(df_branch[\"BRANCH_ZIP\"]) < 4).show()"
   ]
  },
  {
   "cell_type": "code",
   "execution_count": 22,
   "metadata": {},
   "outputs": [],
   "source": [
    "df_branch = df_branch.withColumn('BRANCH_PHONE',\n",
    "            F.format_string(\"(%s)%s-%s\", \n",
    "                            F.substring(df_branch['BRANCH_PHONE'], 1, 3), \n",
    "                            F.substring(df_branch['BRANCH_PHONE'], 4, 3), \n",
    "                            F.substring(df_branch['BRANCH_PHONE'], 7, 4)))\n"
   ]
  },
  {
   "cell_type": "code",
   "execution_count": 23,
   "metadata": {},
   "outputs": [],
   "source": [
    "df_branch = df_branch.withColumn(\n",
    "    'BRANCH_CITY',\n",
    "    F.regexp_replace(df_branch['BRANCH_CITY'], \"(?<=.)([A-Z])\", ' $1')\n",
    ")"
   ]
  },
  {
   "cell_type": "code",
   "execution_count": 24,
   "metadata": {},
   "outputs": [
    {
     "name": "stdout",
     "output_type": "stream",
     "text": [
      "+-----------+------------+-------------------+-------------------+------------+----------+-------------+--------------------+\n",
      "|BRANCH_CODE| BRANCH_NAME|      BRANCH_STREET|        BRANCH_CITY|BRANCH_STATE|BRANCH_ZIP| BRANCH_PHONE|        LAST_UPDATED|\n",
      "+-----------+------------+-------------------+-------------------+------------+----------+-------------+--------------------+\n",
      "|          1|Example Bank|       Bridle Court|          Lakeville|          MN|     55044|(123)456-5276|2018-04-18T16:51:...|\n",
      "|          2|Example Bank|  Washington Street|            Huntley|          IL|     60142|(123)461-8993|2018-04-18T16:51:...|\n",
      "|          3|Example Bank|      Warren Street|South Richmond Hill|          NY|     11419|(123)498-5926|2018-04-18T16:51:...|\n",
      "|          4|Example Bank|   Cleveland Street|         Middleburg|          FL|     32068|(123)466-3064|2018-04-18T16:51:...|\n",
      "|          5|Example Bank|        14th Street|    King Of Prussia|          PA|     19406|(123)484-9701|2018-04-18T16:51:...|\n",
      "|          7|Example Bank|   Jefferson Street|           Paterson|          NJ|     07501|(123)414-4890|2018-04-18T16:51:...|\n",
      "|          8|Example Bank|           B Street|          Pittsford|          NY|     14534|(123)467-8272|2018-04-18T16:51:...|\n",
      "|          9|Example Bank|    Jefferson Court|       Wethersfield|          CT|     06109|(123)467-5219|2018-04-18T16:51:...|\n",
      "|         10|Example Bank|     Cambridge Road|      North Olmsted|          OH|     44070|(123)414-5047|2018-04-18T16:51:...|\n",
      "|         11|Example Bank|    3rd Street West|       Hillsborough|          NJ|     08844|(123)436-6354|2018-04-18T16:51:...|\n",
      "|         12|Example Bank|          Mill Road|    Madison Heights|          MI|     48071|(123)486-7175|2018-04-18T16:51:...|\n",
      "|         14|Example Bank|  Washington Street|             Oviedo|          FL|     32765|(123)493-8460|2018-04-18T16:51:...|\n",
      "|         15|Example Bank|    Chestnut Street|      Mechanicsburg|          PA|     17050|(123)446-2043|2018-04-18T16:51:...|\n",
      "|         16|Example Bank|       Monroe Drive|          Plainview|          NY|     11803|(123)485-7525|2018-04-18T16:51:...|\n",
      "|         17|Example Bank|    Railroad Street|            Paducah|          KY|     42001|(123)454-6360|2018-04-18T16:51:...|\n",
      "|         18|Example Bank|Church Street South|       Harleysville|          PA|     19438|(123)482-4455|2018-04-18T16:51:...|\n",
      "|         19|Example Bank|        King Street|      Silver Spring|          MD|     20901|(123)448-4380|2018-04-18T16:51:...|\n",
      "|         20|Example Bank|   Canterbury Drive|         Burnsville|          MN|     55337|(123)484-0138|2018-04-18T16:51:...|\n",
      "|         21|Example Bank|         2nd Avenue|             Tacoma|          WA|     98444|(123)436-2433|2018-04-18T16:51:...|\n",
      "|         22|Example Bank| Front Street South|           Carlisle|          PA|     17013|(123)492-2492|2018-04-18T16:51:...|\n",
      "+-----------+------------+-------------------+-------------------+------------+----------+-------------+--------------------+\n",
      "only showing top 20 rows\n",
      "\n"
     ]
    }
   ],
   "source": [
    "df_branch.columns\n",
    "df_branch = df_branch.select(\"BRANCH_CODE\", \"BRANCH_NAME\", \"BRANCH_STREET\", \"BRANCH_CITY\", \"BRANCH_STATE\", \"BRANCH_ZIP\", \"BRANCH_PHONE\", \"LAST_UPDATED\")\n",
    "df_branch.show()"
   ]
  },
  {
   "cell_type": "code",
   "execution_count": 25,
   "metadata": {},
   "outputs": [
    {
     "name": "stdout",
     "output_type": "stream",
     "text": [
      "root\n",
      " |-- BRANCH_CODE: long (nullable = true)\n",
      " |-- BRANCH_NAME: string (nullable = true)\n",
      " |-- BRANCH_STREET: string (nullable = true)\n",
      " |-- BRANCH_CITY: string (nullable = true)\n",
      " |-- BRANCH_STATE: string (nullable = true)\n",
      " |-- BRANCH_ZIP: string (nullable = true)\n",
      " |-- BRANCH_PHONE: string (nullable = false)\n",
      " |-- LAST_UPDATED: string (nullable = true)\n",
      "\n",
      "+-------+-----------------+------------+-------------+-----------+------------+------------------+-------------+--------------------+\n",
      "|summary|      BRANCH_CODE| BRANCH_NAME|BRANCH_STREET|BRANCH_CITY|BRANCH_STATE|        BRANCH_ZIP| BRANCH_PHONE|        LAST_UPDATED|\n",
      "+-------+-----------------+------------+-------------+-----------+------------+------------------+-------------+--------------------+\n",
      "|  count|              115|         115|          115|        115|         115|               115|          115|                 115|\n",
      "|   mean|76.67826086956522|        null|         null|       null|        null|  38975.2347826087|         null|                null|\n",
      "| stddev|52.94113709535237|        null|         null|       null|        null|23938.156819564818|         null|                null|\n",
      "|    min|                1|Example Bank|  11th Street|    Acworth|          AL|             02155|(123)410-5725|2018-04-18T16:51:...|\n",
      "|    max|              197|Example Bank|  York Street|  Yuba City|          WI|             98908|(123)498-5926|2018-04-18T16:51:...|\n",
      "+-------+-----------------+------------+-------------+-----------+------------+------------------+-------------+--------------------+\n",
      "\n"
     ]
    }
   ],
   "source": [
    "df_branch.printSchema()\n",
    "df_branch.describe().show()\n"
   ]
  },
  {
   "cell_type": "code",
   "execution_count": 26,
   "metadata": {},
   "outputs": [],
   "source": [
    "# convert the PySpark DataFrame to a pandas DataFrame\n",
    "df_branch = df_branch.toPandas()\n"
   ]
  },
  {
   "cell_type": "code",
   "execution_count": 27,
   "metadata": {},
   "outputs": [],
   "source": [
    "# branch tabke DDL\n",
    "branch_table = (\n",
    "    \"CREATE TABLE IF NOT EXISTS `cdw_sapp_branch` (\"\n",
    "    \"BRANCH_CODE INT PRIMARY KEY,\" \n",
    "    \"BRANCH_NAME VARCHAR(55),\" \n",
    "    \"BRANCH_STREET VARCHAR(55),\" \n",
    "    \"BRANCH_CITY VARCHAR(55),\" \n",
    "    \"BRANCH_STATE VARCHAR(55),\" \n",
    "    \"BRANCH_ZIP INT DEFAULT 999999,\" \n",
    "    \"BRANCH_PHONE VARCHAR(15),\" \n",
    "    \"LAST_UPDATED TIMESTAMP\"\n",
    "    \")\"\n",
    ")"
   ]
  },
  {
   "cell_type": "code",
   "execution_count": 28,
   "metadata": {},
   "outputs": [
    {
     "name": "stdout",
     "output_type": "stream",
     "text": [
      "Creating cdw_sapp_branch table....\n",
      "cdw_sapp_branch table is created....\n",
      "Error while connecting to MySQL 1062 (23000): Duplicate entry '1' for key 'cdw_sapp_branch.PRIMARY'\n",
      "MySQL connection is closed.\n"
     ]
    }
   ],
   "source": [
    "try:\n",
    "    conn = mydbconnection.connect(database='creditcard_capstone', user=mysql_username, password=mysql_password)\n",
    "    cursor = conn.cursor()\n",
    "\n",
    "    # Create the table\n",
    "    print('Creating cdw_sapp_branch table....')\n",
    "    cursor.execute(branch_table)\n",
    "    print(\"cdw_sapp_branch table is created....\")\n",
    "\n",
    "    # Prepare the data for batch insertion\n",
    "    data_to_insert = [tuple(row) for _, row in df_branch.iterrows()]\n",
    "    sql = \"INSERT INTO creditcard_capstone.cdw_sapp_branch VALUES (%s,%s,%s,%s,%s,%s,%s,%s)\"\n",
    "\n",
    "    # Batch insert the data\n",
    "    cursor.executemany(sql, data_to_insert)\n",
    "    print(f\"All {len(data_to_insert)} Branch Records inserted\")\n",
    "\n",
    "    # Commit the transaction\n",
    "    conn.commit()\n",
    "    print(\"Branch data fully loaded\")\n",
    "\n",
    "except Error as e:\n",
    "    print(\"Error while connecting to MySQL\", e)\n",
    "\n",
    "finally:\n",
    "    # Ensure the connection is closed\n",
    "    if conn and conn.is_connected():\n",
    "        cursor.close()\n",
    "        conn.close()\n",
    "        print(\"MySQL connection is closed.\")"
   ]
  }
 ],
 "metadata": {
  "kernelspec": {
   "display_name": "Python 3",
   "language": "python",
   "name": "python3"
  },
  "language_info": {
   "codemirror_mode": {
    "name": "ipython",
    "version": 3
   },
   "file_extension": ".py",
   "mimetype": "text/x-python",
   "name": "python",
   "nbconvert_exporter": "python",
   "pygments_lexer": "ipython3",
   "version": "3.10.11"
  }
 },
 "nbformat": 4,
 "nbformat_minor": 2
}
